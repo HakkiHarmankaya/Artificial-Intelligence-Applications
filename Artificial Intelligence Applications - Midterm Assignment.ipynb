{
 "cells": [
  {
   "cell_type": "markdown",
   "id": "69ad7368-f941-47ac-82cf-745b9087eec1",
   "metadata": {},
   "source": [
    "# Yapay Zeka Uygulamaları Dersi Vize Ödevi - İbrahim Hakkı HARMANKAYA"
   ]
  },
  {
   "cell_type": "markdown",
   "id": "de2ae462-8a72-4eb4-8aeb-4b653e696ac9",
   "metadata": {},
   "source": [
    "## Projenin amacı verilen veri setini işleyerek bir yapay zeka modeli eğitmek."
   ]
  },
  {
   "cell_type": "markdown",
   "id": "8119603a-523d-4f39-bb44-d3eb6f1ffee0",
   "metadata": {},
   "source": [
    "### Ad Soyad: İbrahim Hakkı HARMANKAYA"
   ]
  },
  {
   "cell_type": "markdown",
   "id": "4ddc2282-e648-4176-9aed-ee6804cd1054",
   "metadata": {},
   "source": [
    "### Okul Numarası: 213302022"
   ]
  },
  {
   "cell_type": "markdown",
   "id": "49f3a9f8-e78c-451b-b4be-36c12a764be8",
   "metadata": {},
   "source": [
    "##### Gerekli kütüphanelerin ekledim."
   ]
  },
  {
   "cell_type": "code",
   "execution_count": 3,
   "id": "8c8b0cd7-9332-47f6-8c36-1830a78dc530",
   "metadata": {},
   "outputs": [],
   "source": [
    "import pandas as pd\n",
    "import re\n",
    "import matplotlib.pyplot as plt\n",
    "import seaborn as sns"
   ]
  },
  {
   "cell_type": "markdown",
   "id": "603423b4-51fa-4470-8046-11502bd101f6",
   "metadata": {},
   "source": [
    "##### Veri setinin ekledim."
   ]
  },
  {
   "cell_type": "code",
   "execution_count": 6,
   "id": "e7cd90ba-bdfe-4a67-a379-b713a24fdd3c",
   "metadata": {},
   "outputs": [],
   "source": [
    "df=pd.read_csv(\"laptop_data.csv\")"
   ]
  },
  {
   "cell_type": "markdown",
   "id": "4eaa97fa-d3d0-44c7-9314-f59b38b442ae",
   "metadata": {},
   "source": [
    "##### Veri setini önizleme yaptım."
   ]
  },
  {
   "cell_type": "code",
   "execution_count": 9,
   "id": "b1752bcf-50ad-4174-9fe6-7c02c3d22438",
   "metadata": {},
   "outputs": [
    {
     "data": {
      "text/html": [
       "<div>\n",
       "<style scoped>\n",
       "    .dataframe tbody tr th:only-of-type {\n",
       "        vertical-align: middle;\n",
       "    }\n",
       "\n",
       "    .dataframe tbody tr th {\n",
       "        vertical-align: top;\n",
       "    }\n",
       "\n",
       "    .dataframe thead th {\n",
       "        text-align: right;\n",
       "    }\n",
       "</style>\n",
       "<table border=\"1\" class=\"dataframe\">\n",
       "  <thead>\n",
       "    <tr style=\"text-align: right;\">\n",
       "      <th></th>\n",
       "      <th>Unnamed: 0</th>\n",
       "      <th>Company</th>\n",
       "      <th>TypeName</th>\n",
       "      <th>Inches</th>\n",
       "      <th>ScreenResolution</th>\n",
       "      <th>Cpu</th>\n",
       "      <th>Ram</th>\n",
       "      <th>Memory</th>\n",
       "      <th>Gpu</th>\n",
       "      <th>OpSys</th>\n",
       "      <th>Weight</th>\n",
       "      <th>Price</th>\n",
       "    </tr>\n",
       "  </thead>\n",
       "  <tbody>\n",
       "    <tr>\n",
       "      <th>0</th>\n",
       "      <td>0</td>\n",
       "      <td>Apple</td>\n",
       "      <td>Ultrabook</td>\n",
       "      <td>13.3</td>\n",
       "      <td>IPS Panel Retina Display 2560x1600</td>\n",
       "      <td>Intel Core i5 2.3GHz</td>\n",
       "      <td>8GB</td>\n",
       "      <td>128GB SSD</td>\n",
       "      <td>Intel Iris Plus Graphics 640</td>\n",
       "      <td>macOS</td>\n",
       "      <td>1.37kg</td>\n",
       "      <td>71378.6832</td>\n",
       "    </tr>\n",
       "    <tr>\n",
       "      <th>1</th>\n",
       "      <td>1</td>\n",
       "      <td>Apple</td>\n",
       "      <td>Ultrabook</td>\n",
       "      <td>13.3</td>\n",
       "      <td>1440x900</td>\n",
       "      <td>Intel Core i5 1.8GHz</td>\n",
       "      <td>8GB</td>\n",
       "      <td>128GB Flash Storage</td>\n",
       "      <td>Intel HD Graphics 6000</td>\n",
       "      <td>macOS</td>\n",
       "      <td>1.34kg</td>\n",
       "      <td>47895.5232</td>\n",
       "    </tr>\n",
       "    <tr>\n",
       "      <th>2</th>\n",
       "      <td>2</td>\n",
       "      <td>HP</td>\n",
       "      <td>Notebook</td>\n",
       "      <td>15.6</td>\n",
       "      <td>Full HD 1920x1080</td>\n",
       "      <td>Intel Core i5 7200U 2.5GHz</td>\n",
       "      <td>8GB</td>\n",
       "      <td>256GB SSD</td>\n",
       "      <td>Intel HD Graphics 620</td>\n",
       "      <td>No OS</td>\n",
       "      <td>1.86kg</td>\n",
       "      <td>30636.0000</td>\n",
       "    </tr>\n",
       "    <tr>\n",
       "      <th>3</th>\n",
       "      <td>3</td>\n",
       "      <td>Apple</td>\n",
       "      <td>Ultrabook</td>\n",
       "      <td>15.4</td>\n",
       "      <td>IPS Panel Retina Display 2880x1800</td>\n",
       "      <td>Intel Core i7 2.7GHz</td>\n",
       "      <td>16GB</td>\n",
       "      <td>512GB SSD</td>\n",
       "      <td>AMD Radeon Pro 455</td>\n",
       "      <td>macOS</td>\n",
       "      <td>1.83kg</td>\n",
       "      <td>135195.3360</td>\n",
       "    </tr>\n",
       "    <tr>\n",
       "      <th>4</th>\n",
       "      <td>4</td>\n",
       "      <td>Apple</td>\n",
       "      <td>Ultrabook</td>\n",
       "      <td>13.3</td>\n",
       "      <td>IPS Panel Retina Display 2560x1600</td>\n",
       "      <td>Intel Core i5 3.1GHz</td>\n",
       "      <td>8GB</td>\n",
       "      <td>256GB SSD</td>\n",
       "      <td>Intel Iris Plus Graphics 650</td>\n",
       "      <td>macOS</td>\n",
       "      <td>1.37kg</td>\n",
       "      <td>96095.8080</td>\n",
       "    </tr>\n",
       "  </tbody>\n",
       "</table>\n",
       "</div>"
      ],
      "text/plain": [
       "   Unnamed: 0 Company   TypeName  Inches                    ScreenResolution  \\\n",
       "0           0   Apple  Ultrabook    13.3  IPS Panel Retina Display 2560x1600   \n",
       "1           1   Apple  Ultrabook    13.3                            1440x900   \n",
       "2           2      HP   Notebook    15.6                   Full HD 1920x1080   \n",
       "3           3   Apple  Ultrabook    15.4  IPS Panel Retina Display 2880x1800   \n",
       "4           4   Apple  Ultrabook    13.3  IPS Panel Retina Display 2560x1600   \n",
       "\n",
       "                          Cpu   Ram               Memory  \\\n",
       "0        Intel Core i5 2.3GHz   8GB            128GB SSD   \n",
       "1        Intel Core i5 1.8GHz   8GB  128GB Flash Storage   \n",
       "2  Intel Core i5 7200U 2.5GHz   8GB            256GB SSD   \n",
       "3        Intel Core i7 2.7GHz  16GB            512GB SSD   \n",
       "4        Intel Core i5 3.1GHz   8GB            256GB SSD   \n",
       "\n",
       "                            Gpu  OpSys  Weight        Price  \n",
       "0  Intel Iris Plus Graphics 640  macOS  1.37kg   71378.6832  \n",
       "1        Intel HD Graphics 6000  macOS  1.34kg   47895.5232  \n",
       "2         Intel HD Graphics 620  No OS  1.86kg   30636.0000  \n",
       "3            AMD Radeon Pro 455  macOS  1.83kg  135195.3360  \n",
       "4  Intel Iris Plus Graphics 650  macOS  1.37kg   96095.8080  "
      ]
     },
     "execution_count": 9,
     "metadata": {},
     "output_type": "execute_result"
    }
   ],
   "source": [
    "df.head()"
   ]
  },
  {
   "cell_type": "markdown",
   "id": "d5f1ade2-03ae-49b0-ab6f-48d10c0954bb",
   "metadata": {},
   "source": [
    "##### Veri seti hakkında bilgi aldım."
   ]
  },
  {
   "cell_type": "code",
   "execution_count": 12,
   "id": "b84456ba-7170-402a-b14e-ce2750e414f1",
   "metadata": {},
   "outputs": [
    {
     "name": "stdout",
     "output_type": "stream",
     "text": [
      "<class 'pandas.core.frame.DataFrame'>\n",
      "RangeIndex: 1303 entries, 0 to 1302\n",
      "Data columns (total 12 columns):\n",
      " #   Column            Non-Null Count  Dtype  \n",
      "---  ------            --------------  -----  \n",
      " 0   Unnamed: 0        1303 non-null   int64  \n",
      " 1   Company           1303 non-null   object \n",
      " 2   TypeName          1303 non-null   object \n",
      " 3   Inches            1303 non-null   float64\n",
      " 4   ScreenResolution  1303 non-null   object \n",
      " 5   Cpu               1303 non-null   object \n",
      " 6   Ram               1303 non-null   object \n",
      " 7   Memory            1303 non-null   object \n",
      " 8   Gpu               1303 non-null   object \n",
      " 9   OpSys             1303 non-null   object \n",
      " 10  Weight            1303 non-null   object \n",
      " 11  Price             1303 non-null   float64\n",
      "dtypes: float64(2), int64(1), object(9)\n",
      "memory usage: 122.3+ KB\n"
     ]
    }
   ],
   "source": [
    "df.info()"
   ]
  },
  {
   "cell_type": "markdown",
   "id": "f5b76029-8db5-4eab-b976-e750a34fb83d",
   "metadata": {},
   "source": [
    "##### Veri setindeki sütunlardaki değerlerin toplamı yazdım."
   ]
  },
  {
   "cell_type": "code",
   "execution_count": 15,
   "id": "89ee732b-0a53-4c13-afd5-2193fe893f59",
   "metadata": {},
   "outputs": [
    {
     "data": {
      "text/plain": [
       "Company\n",
       "Dell         297\n",
       "Lenovo       297\n",
       "HP           274\n",
       "Asus         158\n",
       "Acer         103\n",
       "MSI           54\n",
       "Toshiba       48\n",
       "Apple         21\n",
       "Samsung        9\n",
       "Razer          7\n",
       "Mediacom       7\n",
       "Microsoft      6\n",
       "Xiaomi         4\n",
       "Vero           4\n",
       "Chuwi          3\n",
       "Google         3\n",
       "Fujitsu        3\n",
       "LG             3\n",
       "Huawei         2\n",
       "Name: count, dtype: int64"
      ]
     },
     "execution_count": 15,
     "metadata": {},
     "output_type": "execute_result"
    }
   ],
   "source": [
    "df[\"Company\"].value_counts()"
   ]
  },
  {
   "cell_type": "markdown",
   "id": "77195641-e2fe-4b08-be02-be8947ba0dce",
   "metadata": {},
   "source": [
    "##### Boş değerler hesapladım."
   ]
  },
  {
   "cell_type": "code",
   "execution_count": 18,
   "id": "fd31ca6e-d71e-42a3-85ac-6116a8bd70ed",
   "metadata": {},
   "outputs": [
    {
     "data": {
      "text/plain": [
       "Unnamed: 0          0\n",
       "Company             0\n",
       "TypeName            0\n",
       "Inches              0\n",
       "ScreenResolution    0\n",
       "Cpu                 0\n",
       "Ram                 0\n",
       "Memory              0\n",
       "Gpu                 0\n",
       "OpSys               0\n",
       "Weight              0\n",
       "Price               0\n",
       "dtype: int64"
      ]
     },
     "execution_count": 18,
     "metadata": {},
     "output_type": "execute_result"
    }
   ],
   "source": [
    "df.isnull().sum()"
   ]
  },
  {
   "cell_type": "markdown",
   "id": "99983275-3b36-43a5-a21a-984d3354f24b",
   "metadata": {},
   "source": [
    "### Veri Görselleştirme"
   ]
  },
  {
   "cell_type": "markdown",
   "id": "fdb3f7b7-52c2-41e3-950c-2c64d0223132",
   "metadata": {},
   "source": [
    "##### Çukuk grafiği oluşturdum."
   ]
  },
  {
   "cell_type": "code",
   "execution_count": 25,
   "id": "f84c9088-3e4c-4225-9073-af8182ee98ec",
   "metadata": {},
   "outputs": [
    {
     "data": {
      "image/png": "[encoded data removed]",
      "text/plain": [
       "<Figure size 640x480 with 1 Axes>"
      ]
     },
     "metadata": {},
     "output_type": "display_data"
    }
   ],
   "source": [
    "sns.countplot(x=df[\"Company\"])\n",
    "plt.xticks(rotation=45);"
   ]
  },
  {
   "cell_type": "markdown",
   "id": "b17910f7-fcfb-4120-8a7a-369764ea3d38",
   "metadata": {},
   "source": [
    "##### Başka bir çubuk grafiği daha oluşturdum."
   ]
  },
  {
   "cell_type": "code",
   "execution_count": 27,
   "id": "d871b7d5-b427-46f9-aed2-f29bb7ae3c43",
   "metadata": {},
   "outputs": [
    {
     "name": "stderr",
     "output_type": "stream",
     "text": [
      "C:\\Users\\hakki\\AppData\\Local\\Temp\\ipykernel_14792\\1024662876.py:2: FutureWarning: \n",
      "\n",
      "Passing `palette` without assigning `hue` is deprecated and will be removed in v0.14.0. Assign the `y` variable to `hue` and set `legend=False` for the same effect.\n",
      "\n",
      "  sns.countplot(df[\"Company\"], palette=renk)\n"
     ]
    },
    {
     "data": {
      "text/plain": [
       "<Axes: xlabel='count', ylabel='Company'>"
      ]
     },
     "execution_count": 27,
     "metadata": {},
     "output_type": "execute_result"
    },
    {
     "data": {
      "image/png": "[encoded data removed]",
      "text/plain": [
       "<Figure size 640x480 with 1 Axes>"
      ]
     },
     "metadata": {},
     "output_type": "display_data"
    }
   ],
   "source": [
    "renk={\"Mediacom\":\"pink\", \"Xiaomi\":\"blue\",\"MSI\":\"pink\", \"Google\":\"blue\",\"Apple\":\"pink\", \"Dell\":\"blue\",\"Asus\":\"pink\", \"Toshiba\":\"blue\",\"Microsoft\":\"pink\", \"Fujitsu\":\"blue\",\"Acer\":\"pink\", \"Chuwi\":\"blue\",\"Lenovo\":\"pink\", \"Razer\":\"blue\",\"LG\":\"pink\", \"Huawei\":\"blue\", \"HP\":\"blue\",\"Samsung\":\"pink\", \"Vero\":\"blue\"}\n",
    "sns.countplot(df[\"Company\"], palette=renk)"
   ]
  },
  {
   "cell_type": "markdown",
   "id": "85c32d0e-83be-465d-bcdf-00bf45812245",
   "metadata": {},
   "source": [
    "##### Başka bir grafik daha oluşturdum."
   ]
  },
  {
   "cell_type": "code",
   "execution_count": 31,
   "id": "74f31f3d-1531-45c6-b074-4cfe6c4a060a",
   "metadata": {},
   "outputs": [
    {
     "data": {
      "text/plain": [
       "<Axes: >"
      ]
     },
     "execution_count": 31,
     "metadata": {},
     "output_type": "execute_result"
    },
    {
     "data": {
      "image/png": "[encoded data removed]",
      "text/plain": [
       "<Figure size 640x480 with 1 Axes>"
      ]
     },
     "metadata": {},
     "output_type": "display_data"
    }
   ],
   "source": [
    "df[\"Price\"].plot()"
   ]
  },
  {
   "cell_type": "markdown",
   "id": "eb01dc8b-2c59-4647-a1e8-a29e9f2f386e",
   "metadata": {},
   "source": [
    "#### Keşfedici veri analizi işlemleri ve Veri Önişleme"
   ]
  },
  {
   "cell_type": "code",
   "execution_count": 34,
   "id": "620ad253-a12d-4759-8abf-e9f49b9da11f",
   "metadata": {},
   "outputs": [
    {
     "data": {
      "text/plain": [
       "TypeName\n",
       "Notebook              727\n",
       "Gaming                205\n",
       "Ultrabook             196\n",
       "2 in 1 Convertible    121\n",
       "Workstation            29\n",
       "Netbook                25\n",
       "Name: count, dtype: int64"
      ]
     },
     "execution_count": 34,
     "metadata": {},
     "output_type": "execute_result"
    }
   ],
   "source": [
    "df['TypeName'].value_counts()"
   ]
  },
  {
   "cell_type": "markdown",
   "id": "71ce3650-ce9c-4a00-aa33-08e5dd78cf4b",
   "metadata": {},
   "source": [
    "##### TypeName sütununa One Hot Encoding işlemi uygulandım."
   ]
  },
  {
   "cell_type": "code",
   "execution_count": 37,
   "id": "5b90a2a5-974c-489c-b4ee-c77d1b168563",
   "metadata": {},
   "outputs": [],
   "source": [
    "df=pd.get_dummies(df, columns=['TypeName'])"
   ]
  },
  {
   "cell_type": "code",
   "execution_count": 39,
   "id": "b5ee927a-7219-401d-b2c6-6cd6a8066ec0",
   "metadata": {},
   "outputs": [
    {
     "data": {
      "text/html": [
       "<div>\n",
       "<style scoped>\n",
       "    .dataframe tbody tr th:only-of-type {\n",
       "        vertical-align: middle;\n",
       "    }\n",
       "\n",
       "    .dataframe tbody tr th {\n",
       "        vertical-align: top;\n",
       "    }\n",
       "\n",
       "    .dataframe thead th {\n",
       "        text-align: right;\n",
       "    }\n",
       "</style>\n",
       "<table border=\"1\" class=\"dataframe\">\n",
       "  <thead>\n",
       "    <tr style=\"text-align: right;\">\n",
       "      <th></th>\n",
       "      <th>Unnamed: 0</th>\n",
       "      <th>Company</th>\n",
       "      <th>Inches</th>\n",
       "      <th>ScreenResolution</th>\n",
       "      <th>Cpu</th>\n",
       "      <th>Ram</th>\n",
       "      <th>Memory</th>\n",
       "      <th>Gpu</th>\n",
       "      <th>OpSys</th>\n",
       "      <th>Weight</th>\n",
       "      <th>Price</th>\n",
       "      <th>TypeName_2 in 1 Convertible</th>\n",
       "      <th>TypeName_Gaming</th>\n",
       "      <th>TypeName_Netbook</th>\n",
       "      <th>TypeName_Notebook</th>\n",
       "      <th>TypeName_Ultrabook</th>\n",
       "      <th>TypeName_Workstation</th>\n",
       "    </tr>\n",
       "  </thead>\n",
       "  <tbody>\n",
       "    <tr>\n",
       "      <th>0</th>\n",
       "      <td>0</td>\n",
       "      <td>Apple</td>\n",
       "      <td>13.3</td>\n",
       "      <td>IPS Panel Retina Display 2560x1600</td>\n",
       "      <td>Intel Core i5 2.3GHz</td>\n",
       "      <td>8GB</td>\n",
       "      <td>128GB SSD</td>\n",
       "      <td>Intel Iris Plus Graphics 640</td>\n",
       "      <td>macOS</td>\n",
       "      <td>1.37kg</td>\n",
       "      <td>71378.6832</td>\n",
       "      <td>False</td>\n",
       "      <td>False</td>\n",
       "      <td>False</td>\n",
       "      <td>False</td>\n",
       "      <td>True</td>\n",
       "      <td>False</td>\n",
       "    </tr>\n",
       "    <tr>\n",
       "      <th>1</th>\n",
       "      <td>1</td>\n",
       "      <td>Apple</td>\n",
       "      <td>13.3</td>\n",
       "      <td>1440x900</td>\n",
       "      <td>Intel Core i5 1.8GHz</td>\n",
       "      <td>8GB</td>\n",
       "      <td>128GB Flash Storage</td>\n",
       "      <td>Intel HD Graphics 6000</td>\n",
       "      <td>macOS</td>\n",
       "      <td>1.34kg</td>\n",
       "      <td>47895.5232</td>\n",
       "      <td>False</td>\n",
       "      <td>False</td>\n",
       "      <td>False</td>\n",
       "      <td>False</td>\n",
       "      <td>True</td>\n",
       "      <td>False</td>\n",
       "    </tr>\n",
       "    <tr>\n",
       "      <th>2</th>\n",
       "      <td>2</td>\n",
       "      <td>HP</td>\n",
       "      <td>15.6</td>\n",
       "      <td>Full HD 1920x1080</td>\n",
       "      <td>Intel Core i5 7200U 2.5GHz</td>\n",
       "      <td>8GB</td>\n",
       "      <td>256GB SSD</td>\n",
       "      <td>Intel HD Graphics 620</td>\n",
       "      <td>No OS</td>\n",
       "      <td>1.86kg</td>\n",
       "      <td>30636.0000</td>\n",
       "      <td>False</td>\n",
       "      <td>False</td>\n",
       "      <td>False</td>\n",
       "      <td>True</td>\n",
       "      <td>False</td>\n",
       "      <td>False</td>\n",
       "    </tr>\n",
       "    <tr>\n",
       "      <th>3</th>\n",
       "      <td>3</td>\n",
       "      <td>Apple</td>\n",
       "      <td>15.4</td>\n",
       "      <td>IPS Panel Retina Display 2880x1800</td>\n",
       "      <td>Intel Core i7 2.7GHz</td>\n",
       "      <td>16GB</td>\n",
       "      <td>512GB SSD</td>\n",
       "      <td>AMD Radeon Pro 455</td>\n",
       "      <td>macOS</td>\n",
       "      <td>1.83kg</td>\n",
       "      <td>135195.3360</td>\n",
       "      <td>False</td>\n",
       "      <td>False</td>\n",
       "      <td>False</td>\n",
       "      <td>False</td>\n",
       "      <td>True</td>\n",
       "      <td>False</td>\n",
       "    </tr>\n",
       "    <tr>\n",
       "      <th>4</th>\n",
       "      <td>4</td>\n",
       "      <td>Apple</td>\n",
       "      <td>13.3</td>\n",
       "      <td>IPS Panel Retina Display 2560x1600</td>\n",
       "      <td>Intel Core i5 3.1GHz</td>\n",
       "      <td>8GB</td>\n",
       "      <td>256GB SSD</td>\n",
       "      <td>Intel Iris Plus Graphics 650</td>\n",
       "      <td>macOS</td>\n",
       "      <td>1.37kg</td>\n",
       "      <td>96095.8080</td>\n",
       "      <td>False</td>\n",
       "      <td>False</td>\n",
       "      <td>False</td>\n",
       "      <td>False</td>\n",
       "      <td>True</td>\n",
       "      <td>False</td>\n",
       "    </tr>\n",
       "  </tbody>\n",
       "</table>\n",
       "</div>"
      ],
      "text/plain": [
       "   Unnamed: 0 Company  Inches                    ScreenResolution  \\\n",
       "0           0   Apple    13.3  IPS Panel Retina Display 2560x1600   \n",
       "1           1   Apple    13.3                            1440x900   \n",
       "2           2      HP    15.6                   Full HD 1920x1080   \n",
       "3           3   Apple    15.4  IPS Panel Retina Display 2880x1800   \n",
       "4           4   Apple    13.3  IPS Panel Retina Display 2560x1600   \n",
       "\n",
       "                          Cpu   Ram               Memory  \\\n",
       "0        Intel Core i5 2.3GHz   8GB            128GB SSD   \n",
       "1        Intel Core i5 1.8GHz   8GB  128GB Flash Storage   \n",
       "2  Intel Core i5 7200U 2.5GHz   8GB            256GB SSD   \n",
       "3        Intel Core i7 2.7GHz  16GB            512GB SSD   \n",
       "4        Intel Core i5 3.1GHz   8GB            256GB SSD   \n",
       "\n",
       "                            Gpu  OpSys  Weight        Price  \\\n",
       "0  Intel Iris Plus Graphics 640  macOS  1.37kg   71378.6832   \n",
       "1        Intel HD Graphics 6000  macOS  1.34kg   47895.5232   \n",
       "2         Intel HD Graphics 620  No OS  1.86kg   30636.0000   \n",
       "3            AMD Radeon Pro 455  macOS  1.83kg  135195.3360   \n",
       "4  Intel Iris Plus Graphics 650  macOS  1.37kg   96095.8080   \n",
       "\n",
       "   TypeName_2 in 1 Convertible  TypeName_Gaming  TypeName_Netbook  \\\n",
       "0                        False            False             False   \n",
       "1                        False            False             False   \n",
       "2                        False            False             False   \n",
       "3                        False            False             False   \n",
       "4                        False            False             False   \n",
       "\n",
       "   TypeName_Notebook  TypeName_Ultrabook  TypeName_Workstation  \n",
       "0              False                True                 False  \n",
       "1              False                True                 False  \n",
       "2               True               False                 False  \n",
       "3              False                True                 False  \n",
       "4              False                True                 False  "
      ]
     },
     "execution_count": 39,
     "metadata": {},
     "output_type": "execute_result"
    }
   ],
   "source": [
    "df.head()"
   ]
  },
  {
   "cell_type": "code",
   "execution_count": 41,
   "id": "a6f2eaca-5a8e-40cb-8c66-43b772c7d05e",
   "metadata": {},
   "outputs": [
    {
     "data": {
      "text/plain": [
       "118"
      ]
     },
     "execution_count": 41,
     "metadata": {},
     "output_type": "execute_result"
    }
   ],
   "source": [
    "df['Cpu'].nunique()"
   ]
  },
  {
   "cell_type": "markdown",
   "id": "a6eb4c21-c6aa-4f69-9b70-c7af237a4083",
   "metadata": {},
   "source": [
    "##### İşlemci model numaraları ve GHz hızları düzenledim."
   ]
  },
  {
   "cell_type": "code",
   "execution_count": 44,
   "id": "3e4e6c63-a956-4f91-b31f-15ab5552101e",
   "metadata": {},
   "outputs": [],
   "source": [
    "def extract_cpu_manufacturer(cpu):\n",
    "    return cpu.split()[0]\n",
    "\n",
    "def extract_cpu_series(cpu):\n",
    "    return \" \".join(cpu.split()[:2])\n",
    "\n",
    "def extract_cpu_model(cpu):\n",
    "    match = re.search(r'\\d+[A-Za-z]*', cpu)\n",
    "    return match.group() if match else None\n",
    "\n",
    "def extract_clock_speed(cpu):\n",
    "    match = re.search(r'[\\d\\.]+GHz', cpu)\n",
    "    return float(match.group()[:-3]) if match else None"
   ]
  },
  {
   "cell_type": "code",
   "execution_count": 46,
   "id": "b6d4a2f6-ac9b-4d59-b751-9f849772c869",
   "metadata": {},
   "outputs": [],
   "source": [
    "df['CPU Manufacturer'] = df['Cpu'].apply(extract_cpu_manufacturer)\n",
    "df['CPU Series'] = df['Cpu'].apply(extract_cpu_series)\n",
    "df['CPU Model'] = df['Cpu'].apply(extract_cpu_model)\n",
    "df['Clock Speed (GHz)'] = df['Cpu'].apply(extract_clock_speed)"
   ]
  },
  {
   "cell_type": "code",
   "execution_count": 48,
   "id": "c0cc117e-a35f-4c94-954c-5da1109fdfac",
   "metadata": {},
   "outputs": [
    {
     "data": {
      "text/html": [
       "<div>\n",
       "<style scoped>\n",
       "    .dataframe tbody tr th:only-of-type {\n",
       "        vertical-align: middle;\n",
       "    }\n",
       "\n",
       "    .dataframe tbody tr th {\n",
       "        vertical-align: top;\n",
       "    }\n",
       "\n",
       "    .dataframe thead th {\n",
       "        text-align: right;\n",
       "    }\n",
       "</style>\n",
       "<table border=\"1\" class=\"dataframe\">\n",
       "  <thead>\n",
       "    <tr style=\"text-align: right;\">\n",
       "      <th></th>\n",
       "      <th>Unnamed: 0</th>\n",
       "      <th>Company</th>\n",
       "      <th>Inches</th>\n",
       "      <th>ScreenResolution</th>\n",
       "      <th>Cpu</th>\n",
       "      <th>Ram</th>\n",
       "      <th>Memory</th>\n",
       "      <th>Gpu</th>\n",
       "      <th>OpSys</th>\n",
       "      <th>Weight</th>\n",
       "      <th>...</th>\n",
       "      <th>TypeName_2 in 1 Convertible</th>\n",
       "      <th>TypeName_Gaming</th>\n",
       "      <th>TypeName_Netbook</th>\n",
       "      <th>TypeName_Notebook</th>\n",
       "      <th>TypeName_Ultrabook</th>\n",
       "      <th>TypeName_Workstation</th>\n",
       "      <th>CPU Manufacturer</th>\n",
       "      <th>CPU Series</th>\n",
       "      <th>CPU Model</th>\n",
       "      <th>Clock Speed (GHz)</th>\n",
       "    </tr>\n",
       "  </thead>\n",
       "  <tbody>\n",
       "    <tr>\n",
       "      <th>1298</th>\n",
       "      <td>1298</td>\n",
       "      <td>Lenovo</td>\n",
       "      <td>14.0</td>\n",
       "      <td>IPS Panel Full HD / Touchscreen 1920x1080</td>\n",
       "      <td>Intel Core i7 6500U 2.5GHz</td>\n",
       "      <td>4GB</td>\n",
       "      <td>128GB SSD</td>\n",
       "      <td>Intel HD Graphics 520</td>\n",
       "      <td>Windows 10</td>\n",
       "      <td>1.8kg</td>\n",
       "      <td>...</td>\n",
       "      <td>True</td>\n",
       "      <td>False</td>\n",
       "      <td>False</td>\n",
       "      <td>False</td>\n",
       "      <td>False</td>\n",
       "      <td>False</td>\n",
       "      <td>Intel</td>\n",
       "      <td>Intel Core</td>\n",
       "      <td>7</td>\n",
       "      <td>2.5</td>\n",
       "    </tr>\n",
       "    <tr>\n",
       "      <th>1299</th>\n",
       "      <td>1299</td>\n",
       "      <td>Lenovo</td>\n",
       "      <td>13.3</td>\n",
       "      <td>IPS Panel Quad HD+ / Touchscreen 3200x1800</td>\n",
       "      <td>Intel Core i7 6500U 2.5GHz</td>\n",
       "      <td>16GB</td>\n",
       "      <td>512GB SSD</td>\n",
       "      <td>Intel HD Graphics 520</td>\n",
       "      <td>Windows 10</td>\n",
       "      <td>1.3kg</td>\n",
       "      <td>...</td>\n",
       "      <td>True</td>\n",
       "      <td>False</td>\n",
       "      <td>False</td>\n",
       "      <td>False</td>\n",
       "      <td>False</td>\n",
       "      <td>False</td>\n",
       "      <td>Intel</td>\n",
       "      <td>Intel Core</td>\n",
       "      <td>7</td>\n",
       "      <td>2.5</td>\n",
       "    </tr>\n",
       "    <tr>\n",
       "      <th>1300</th>\n",
       "      <td>1300</td>\n",
       "      <td>Lenovo</td>\n",
       "      <td>14.0</td>\n",
       "      <td>1366x768</td>\n",
       "      <td>Intel Celeron Dual Core N3050 1.6GHz</td>\n",
       "      <td>2GB</td>\n",
       "      <td>64GB Flash Storage</td>\n",
       "      <td>Intel HD Graphics</td>\n",
       "      <td>Windows 10</td>\n",
       "      <td>1.5kg</td>\n",
       "      <td>...</td>\n",
       "      <td>False</td>\n",
       "      <td>False</td>\n",
       "      <td>False</td>\n",
       "      <td>True</td>\n",
       "      <td>False</td>\n",
       "      <td>False</td>\n",
       "      <td>Intel</td>\n",
       "      <td>Intel Celeron</td>\n",
       "      <td>3050</td>\n",
       "      <td>1.6</td>\n",
       "    </tr>\n",
       "    <tr>\n",
       "      <th>1301</th>\n",
       "      <td>1301</td>\n",
       "      <td>HP</td>\n",
       "      <td>15.6</td>\n",
       "      <td>1366x768</td>\n",
       "      <td>Intel Core i7 6500U 2.5GHz</td>\n",
       "      <td>6GB</td>\n",
       "      <td>1TB HDD</td>\n",
       "      <td>AMD Radeon R5 M330</td>\n",
       "      <td>Windows 10</td>\n",
       "      <td>2.19kg</td>\n",
       "      <td>...</td>\n",
       "      <td>False</td>\n",
       "      <td>False</td>\n",
       "      <td>False</td>\n",
       "      <td>True</td>\n",
       "      <td>False</td>\n",
       "      <td>False</td>\n",
       "      <td>Intel</td>\n",
       "      <td>Intel Core</td>\n",
       "      <td>7</td>\n",
       "      <td>2.5</td>\n",
       "    </tr>\n",
       "    <tr>\n",
       "      <th>1302</th>\n",
       "      <td>1302</td>\n",
       "      <td>Asus</td>\n",
       "      <td>15.6</td>\n",
       "      <td>1366x768</td>\n",
       "      <td>Intel Celeron Dual Core N3050 1.6GHz</td>\n",
       "      <td>4GB</td>\n",
       "      <td>500GB HDD</td>\n",
       "      <td>Intel HD Graphics</td>\n",
       "      <td>Windows 10</td>\n",
       "      <td>2.2kg</td>\n",
       "      <td>...</td>\n",
       "      <td>False</td>\n",
       "      <td>False</td>\n",
       "      <td>False</td>\n",
       "      <td>True</td>\n",
       "      <td>False</td>\n",
       "      <td>False</td>\n",
       "      <td>Intel</td>\n",
       "      <td>Intel Celeron</td>\n",
       "      <td>3050</td>\n",
       "      <td>1.6</td>\n",
       "    </tr>\n",
       "  </tbody>\n",
       "</table>\n",
       "<p>5 rows × 21 columns</p>\n",
       "</div>"
      ],
      "text/plain": [
       "      Unnamed: 0 Company  Inches                            ScreenResolution  \\\n",
       "1298        1298  Lenovo    14.0   IPS Panel Full HD / Touchscreen 1920x1080   \n",
       "1299        1299  Lenovo    13.3  IPS Panel Quad HD+ / Touchscreen 3200x1800   \n",
       "1300        1300  Lenovo    14.0                                    1366x768   \n",
       "1301        1301      HP    15.6                                    1366x768   \n",
       "1302        1302    Asus    15.6                                    1366x768   \n",
       "\n",
       "                                       Cpu   Ram              Memory  \\\n",
       "1298            Intel Core i7 6500U 2.5GHz   4GB           128GB SSD   \n",
       "1299            Intel Core i7 6500U 2.5GHz  16GB           512GB SSD   \n",
       "1300  Intel Celeron Dual Core N3050 1.6GHz   2GB  64GB Flash Storage   \n",
       "1301            Intel Core i7 6500U 2.5GHz   6GB             1TB HDD   \n",
       "1302  Intel Celeron Dual Core N3050 1.6GHz   4GB           500GB HDD   \n",
       "\n",
       "                        Gpu       OpSys  Weight  ...  \\\n",
       "1298  Intel HD Graphics 520  Windows 10   1.8kg  ...   \n",
       "1299  Intel HD Graphics 520  Windows 10   1.3kg  ...   \n",
       "1300      Intel HD Graphics  Windows 10   1.5kg  ...   \n",
       "1301     AMD Radeon R5 M330  Windows 10  2.19kg  ...   \n",
       "1302      Intel HD Graphics  Windows 10   2.2kg  ...   \n",
       "\n",
       "      TypeName_2 in 1 Convertible  TypeName_Gaming  TypeName_Netbook  \\\n",
       "1298                         True            False             False   \n",
       "1299                         True            False             False   \n",
       "1300                        False            False             False   \n",
       "1301                        False            False             False   \n",
       "1302                        False            False             False   \n",
       "\n",
       "      TypeName_Notebook  TypeName_Ultrabook  TypeName_Workstation  \\\n",
       "1298              False               False                 False   \n",
       "1299              False               False                 False   \n",
       "1300               True               False                 False   \n",
       "1301               True               False                 False   \n",
       "1302               True               False                 False   \n",
       "\n",
       "      CPU Manufacturer     CPU Series CPU Model Clock Speed (GHz)  \n",
       "1298             Intel     Intel Core         7               2.5  \n",
       "1299             Intel     Intel Core         7               2.5  \n",
       "1300             Intel  Intel Celeron      3050               1.6  \n",
       "1301             Intel     Intel Core         7               2.5  \n",
       "1302             Intel  Intel Celeron      3050               1.6  \n",
       "\n",
       "[5 rows x 21 columns]"
      ]
     },
     "execution_count": 48,
     "metadata": {},
     "output_type": "execute_result"
    }
   ],
   "source": [
    "df.tail()"
   ]
  },
  {
   "cell_type": "code",
   "execution_count": 50,
   "id": "3d713c19-dedb-4c36-81c5-56fdc7bb0a6f",
   "metadata": {},
   "outputs": [
    {
     "data": {
      "text/html": [
       "<div>\n",
       "<style scoped>\n",
       "    .dataframe tbody tr th:only-of-type {\n",
       "        vertical-align: middle;\n",
       "    }\n",
       "\n",
       "    .dataframe tbody tr th {\n",
       "        vertical-align: top;\n",
       "    }\n",
       "\n",
       "    .dataframe thead th {\n",
       "        text-align: right;\n",
       "    }\n",
       "</style>\n",
       "<table border=\"1\" class=\"dataframe\">\n",
       "  <thead>\n",
       "    <tr style=\"text-align: right;\">\n",
       "      <th></th>\n",
       "      <th>Unnamed: 0</th>\n",
       "      <th>Company</th>\n",
       "      <th>Inches</th>\n",
       "      <th>ScreenResolution</th>\n",
       "      <th>Cpu</th>\n",
       "      <th>Ram</th>\n",
       "      <th>Memory</th>\n",
       "      <th>Gpu</th>\n",
       "      <th>OpSys</th>\n",
       "      <th>Weight</th>\n",
       "      <th>...</th>\n",
       "      <th>TypeName_2 in 1 Convertible</th>\n",
       "      <th>TypeName_Gaming</th>\n",
       "      <th>TypeName_Netbook</th>\n",
       "      <th>TypeName_Notebook</th>\n",
       "      <th>TypeName_Ultrabook</th>\n",
       "      <th>TypeName_Workstation</th>\n",
       "      <th>CPU Manufacturer</th>\n",
       "      <th>CPU Series</th>\n",
       "      <th>CPU Model</th>\n",
       "      <th>Clock Speed (GHz)</th>\n",
       "    </tr>\n",
       "  </thead>\n",
       "  <tbody>\n",
       "    <tr>\n",
       "      <th>0</th>\n",
       "      <td>0</td>\n",
       "      <td>Apple</td>\n",
       "      <td>13.3</td>\n",
       "      <td>IPS Panel Retina Display 2560x1600</td>\n",
       "      <td>Intel Core i5 2.3GHz</td>\n",
       "      <td>8GB</td>\n",
       "      <td>128GB SSD</td>\n",
       "      <td>Intel Iris Plus Graphics 640</td>\n",
       "      <td>macOS</td>\n",
       "      <td>1.37kg</td>\n",
       "      <td>...</td>\n",
       "      <td>False</td>\n",
       "      <td>False</td>\n",
       "      <td>False</td>\n",
       "      <td>False</td>\n",
       "      <td>True</td>\n",
       "      <td>False</td>\n",
       "      <td>Intel</td>\n",
       "      <td>Intel Core</td>\n",
       "      <td>5</td>\n",
       "      <td>2.3</td>\n",
       "    </tr>\n",
       "    <tr>\n",
       "      <th>1</th>\n",
       "      <td>1</td>\n",
       "      <td>Apple</td>\n",
       "      <td>13.3</td>\n",
       "      <td>1440x900</td>\n",
       "      <td>Intel Core i5 1.8GHz</td>\n",
       "      <td>8GB</td>\n",
       "      <td>128GB Flash Storage</td>\n",
       "      <td>Intel HD Graphics 6000</td>\n",
       "      <td>macOS</td>\n",
       "      <td>1.34kg</td>\n",
       "      <td>...</td>\n",
       "      <td>False</td>\n",
       "      <td>False</td>\n",
       "      <td>False</td>\n",
       "      <td>False</td>\n",
       "      <td>True</td>\n",
       "      <td>False</td>\n",
       "      <td>Intel</td>\n",
       "      <td>Intel Core</td>\n",
       "      <td>5</td>\n",
       "      <td>1.8</td>\n",
       "    </tr>\n",
       "    <tr>\n",
       "      <th>2</th>\n",
       "      <td>2</td>\n",
       "      <td>HP</td>\n",
       "      <td>15.6</td>\n",
       "      <td>Full HD 1920x1080</td>\n",
       "      <td>Intel Core i5 7200U 2.5GHz</td>\n",
       "      <td>8GB</td>\n",
       "      <td>256GB SSD</td>\n",
       "      <td>Intel HD Graphics 620</td>\n",
       "      <td>No OS</td>\n",
       "      <td>1.86kg</td>\n",
       "      <td>...</td>\n",
       "      <td>False</td>\n",
       "      <td>False</td>\n",
       "      <td>False</td>\n",
       "      <td>True</td>\n",
       "      <td>False</td>\n",
       "      <td>False</td>\n",
       "      <td>Intel</td>\n",
       "      <td>Intel Core</td>\n",
       "      <td>5</td>\n",
       "      <td>2.5</td>\n",
       "    </tr>\n",
       "    <tr>\n",
       "      <th>3</th>\n",
       "      <td>3</td>\n",
       "      <td>Apple</td>\n",
       "      <td>15.4</td>\n",
       "      <td>IPS Panel Retina Display 2880x1800</td>\n",
       "      <td>Intel Core i7 2.7GHz</td>\n",
       "      <td>16GB</td>\n",
       "      <td>512GB SSD</td>\n",
       "      <td>AMD Radeon Pro 455</td>\n",
       "      <td>macOS</td>\n",
       "      <td>1.83kg</td>\n",
       "      <td>...</td>\n",
       "      <td>False</td>\n",
       "      <td>False</td>\n",
       "      <td>False</td>\n",
       "      <td>False</td>\n",
       "      <td>True</td>\n",
       "      <td>False</td>\n",
       "      <td>Intel</td>\n",
       "      <td>Intel Core</td>\n",
       "      <td>7</td>\n",
       "      <td>2.7</td>\n",
       "    </tr>\n",
       "    <tr>\n",
       "      <th>4</th>\n",
       "      <td>4</td>\n",
       "      <td>Apple</td>\n",
       "      <td>13.3</td>\n",
       "      <td>IPS Panel Retina Display 2560x1600</td>\n",
       "      <td>Intel Core i5 3.1GHz</td>\n",
       "      <td>8GB</td>\n",
       "      <td>256GB SSD</td>\n",
       "      <td>Intel Iris Plus Graphics 650</td>\n",
       "      <td>macOS</td>\n",
       "      <td>1.37kg</td>\n",
       "      <td>...</td>\n",
       "      <td>False</td>\n",
       "      <td>False</td>\n",
       "      <td>False</td>\n",
       "      <td>False</td>\n",
       "      <td>True</td>\n",
       "      <td>False</td>\n",
       "      <td>Intel</td>\n",
       "      <td>Intel Core</td>\n",
       "      <td>5</td>\n",
       "      <td>3.1</td>\n",
       "    </tr>\n",
       "  </tbody>\n",
       "</table>\n",
       "<p>5 rows × 21 columns</p>\n",
       "</div>"
      ],
      "text/plain": [
       "   Unnamed: 0 Company  Inches                    ScreenResolution  \\\n",
       "0           0   Apple    13.3  IPS Panel Retina Display 2560x1600   \n",
       "1           1   Apple    13.3                            1440x900   \n",
       "2           2      HP    15.6                   Full HD 1920x1080   \n",
       "3           3   Apple    15.4  IPS Panel Retina Display 2880x1800   \n",
       "4           4   Apple    13.3  IPS Panel Retina Display 2560x1600   \n",
       "\n",
       "                          Cpu   Ram               Memory  \\\n",
       "0        Intel Core i5 2.3GHz   8GB            128GB SSD   \n",
       "1        Intel Core i5 1.8GHz   8GB  128GB Flash Storage   \n",
       "2  Intel Core i5 7200U 2.5GHz   8GB            256GB SSD   \n",
       "3        Intel Core i7 2.7GHz  16GB            512GB SSD   \n",
       "4        Intel Core i5 3.1GHz   8GB            256GB SSD   \n",
       "\n",
       "                            Gpu  OpSys  Weight  ...  \\\n",
       "0  Intel Iris Plus Graphics 640  macOS  1.37kg  ...   \n",
       "1        Intel HD Graphics 6000  macOS  1.34kg  ...   \n",
       "2         Intel HD Graphics 620  No OS  1.86kg  ...   \n",
       "3            AMD Radeon Pro 455  macOS  1.83kg  ...   \n",
       "4  Intel Iris Plus Graphics 650  macOS  1.37kg  ...   \n",
       "\n",
       "   TypeName_2 in 1 Convertible  TypeName_Gaming  TypeName_Netbook  \\\n",
       "0                        False            False             False   \n",
       "1                        False            False             False   \n",
       "2                        False            False             False   \n",
       "3                        False            False             False   \n",
       "4                        False            False             False   \n",
       "\n",
       "   TypeName_Notebook  TypeName_Ultrabook  TypeName_Workstation  \\\n",
       "0              False                True                 False   \n",
       "1              False                True                 False   \n",
       "2               True               False                 False   \n",
       "3              False                True                 False   \n",
       "4              False                True                 False   \n",
       "\n",
       "   CPU Manufacturer  CPU Series CPU Model Clock Speed (GHz)  \n",
       "0             Intel  Intel Core         5               2.3  \n",
       "1             Intel  Intel Core         5               1.8  \n",
       "2             Intel  Intel Core         5               2.5  \n",
       "3             Intel  Intel Core         7               2.7  \n",
       "4             Intel  Intel Core         5               3.1  \n",
       "\n",
       "[5 rows x 21 columns]"
      ]
     },
     "execution_count": 50,
     "metadata": {},
     "output_type": "execute_result"
    }
   ],
   "source": [
    "df.head()"
   ]
  },
  {
   "cell_type": "markdown",
   "id": "40ff8a99-02b3-431f-8829-be92228788b5",
   "metadata": {},
   "source": [
    "##### Ram kolunundaki tüm GB yazılarını sildim."
   ]
  },
  {
   "cell_type": "code",
   "execution_count": 53,
   "id": "b3ec7da9-0e02-4fc1-892a-f5316d4e70fd",
   "metadata": {},
   "outputs": [],
   "source": [
    "df=df.drop('Unnamed: 0', axis=1)"
   ]
  },
  {
   "cell_type": "code",
   "execution_count": 55,
   "id": "ea48c7da-c225-45a4-91b9-b8fc1d7081f2",
   "metadata": {},
   "outputs": [],
   "source": [
    "df['Ram']= df['Ram'].str.replace('GB', '').astype(int)"
   ]
  },
  {
   "cell_type": "code",
   "execution_count": 57,
   "id": "2b3af65b-6e74-426b-9260-f877f96e573a",
   "metadata": {},
   "outputs": [
    {
     "data": {
      "text/plain": [
       "39"
      ]
     },
     "execution_count": 57,
     "metadata": {},
     "output_type": "execute_result"
    }
   ],
   "source": [
    "df['Memory'].nunique()"
   ]
  },
  {
   "cell_type": "code",
   "execution_count": 59,
   "id": "471068cd-487a-4b63-8059-c3e1d5da85ab",
   "metadata": {},
   "outputs": [
    {
     "data": {
      "text/html": [
       "<div>\n",
       "<style scoped>\n",
       "    .dataframe tbody tr th:only-of-type {\n",
       "        vertical-align: middle;\n",
       "    }\n",
       "\n",
       "    .dataframe tbody tr th {\n",
       "        vertical-align: top;\n",
       "    }\n",
       "\n",
       "    .dataframe thead th {\n",
       "        text-align: right;\n",
       "    }\n",
       "</style>\n",
       "<table border=\"1\" class=\"dataframe\">\n",
       "  <thead>\n",
       "    <tr style=\"text-align: right;\">\n",
       "      <th></th>\n",
       "      <th>Company</th>\n",
       "      <th>Inches</th>\n",
       "      <th>ScreenResolution</th>\n",
       "      <th>Cpu</th>\n",
       "      <th>Ram</th>\n",
       "      <th>Memory</th>\n",
       "      <th>Gpu</th>\n",
       "      <th>OpSys</th>\n",
       "      <th>Weight</th>\n",
       "      <th>Price</th>\n",
       "      <th>TypeName_2 in 1 Convertible</th>\n",
       "      <th>TypeName_Gaming</th>\n",
       "      <th>TypeName_Netbook</th>\n",
       "      <th>TypeName_Notebook</th>\n",
       "      <th>TypeName_Ultrabook</th>\n",
       "      <th>TypeName_Workstation</th>\n",
       "      <th>CPU Manufacturer</th>\n",
       "      <th>CPU Series</th>\n",
       "      <th>CPU Model</th>\n",
       "      <th>Clock Speed (GHz)</th>\n",
       "    </tr>\n",
       "  </thead>\n",
       "  <tbody>\n",
       "    <tr>\n",
       "      <th>0</th>\n",
       "      <td>Apple</td>\n",
       "      <td>13.3</td>\n",
       "      <td>IPS Panel Retina Display 2560x1600</td>\n",
       "      <td>Intel Core i5 2.3GHz</td>\n",
       "      <td>8</td>\n",
       "      <td>128GB SSD</td>\n",
       "      <td>Intel Iris Plus Graphics 640</td>\n",
       "      <td>macOS</td>\n",
       "      <td>1.37kg</td>\n",
       "      <td>71378.6832</td>\n",
       "      <td>False</td>\n",
       "      <td>False</td>\n",
       "      <td>False</td>\n",
       "      <td>False</td>\n",
       "      <td>True</td>\n",
       "      <td>False</td>\n",
       "      <td>Intel</td>\n",
       "      <td>Intel Core</td>\n",
       "      <td>5</td>\n",
       "      <td>2.3</td>\n",
       "    </tr>\n",
       "    <tr>\n",
       "      <th>1</th>\n",
       "      <td>Apple</td>\n",
       "      <td>13.3</td>\n",
       "      <td>1440x900</td>\n",
       "      <td>Intel Core i5 1.8GHz</td>\n",
       "      <td>8</td>\n",
       "      <td>128GB Flash Storage</td>\n",
       "      <td>Intel HD Graphics 6000</td>\n",
       "      <td>macOS</td>\n",
       "      <td>1.34kg</td>\n",
       "      <td>47895.5232</td>\n",
       "      <td>False</td>\n",
       "      <td>False</td>\n",
       "      <td>False</td>\n",
       "      <td>False</td>\n",
       "      <td>True</td>\n",
       "      <td>False</td>\n",
       "      <td>Intel</td>\n",
       "      <td>Intel Core</td>\n",
       "      <td>5</td>\n",
       "      <td>1.8</td>\n",
       "    </tr>\n",
       "    <tr>\n",
       "      <th>2</th>\n",
       "      <td>HP</td>\n",
       "      <td>15.6</td>\n",
       "      <td>Full HD 1920x1080</td>\n",
       "      <td>Intel Core i5 7200U 2.5GHz</td>\n",
       "      <td>8</td>\n",
       "      <td>256GB SSD</td>\n",
       "      <td>Intel HD Graphics 620</td>\n",
       "      <td>No OS</td>\n",
       "      <td>1.86kg</td>\n",
       "      <td>30636.0000</td>\n",
       "      <td>False</td>\n",
       "      <td>False</td>\n",
       "      <td>False</td>\n",
       "      <td>True</td>\n",
       "      <td>False</td>\n",
       "      <td>False</td>\n",
       "      <td>Intel</td>\n",
       "      <td>Intel Core</td>\n",
       "      <td>5</td>\n",
       "      <td>2.5</td>\n",
       "    </tr>\n",
       "    <tr>\n",
       "      <th>3</th>\n",
       "      <td>Apple</td>\n",
       "      <td>15.4</td>\n",
       "      <td>IPS Panel Retina Display 2880x1800</td>\n",
       "      <td>Intel Core i7 2.7GHz</td>\n",
       "      <td>16</td>\n",
       "      <td>512GB SSD</td>\n",
       "      <td>AMD Radeon Pro 455</td>\n",
       "      <td>macOS</td>\n",
       "      <td>1.83kg</td>\n",
       "      <td>135195.3360</td>\n",
       "      <td>False</td>\n",
       "      <td>False</td>\n",
       "      <td>False</td>\n",
       "      <td>False</td>\n",
       "      <td>True</td>\n",
       "      <td>False</td>\n",
       "      <td>Intel</td>\n",
       "      <td>Intel Core</td>\n",
       "      <td>7</td>\n",
       "      <td>2.7</td>\n",
       "    </tr>\n",
       "    <tr>\n",
       "      <th>4</th>\n",
       "      <td>Apple</td>\n",
       "      <td>13.3</td>\n",
       "      <td>IPS Panel Retina Display 2560x1600</td>\n",
       "      <td>Intel Core i5 3.1GHz</td>\n",
       "      <td>8</td>\n",
       "      <td>256GB SSD</td>\n",
       "      <td>Intel Iris Plus Graphics 650</td>\n",
       "      <td>macOS</td>\n",
       "      <td>1.37kg</td>\n",
       "      <td>96095.8080</td>\n",
       "      <td>False</td>\n",
       "      <td>False</td>\n",
       "      <td>False</td>\n",
       "      <td>False</td>\n",
       "      <td>True</td>\n",
       "      <td>False</td>\n",
       "      <td>Intel</td>\n",
       "      <td>Intel Core</td>\n",
       "      <td>5</td>\n",
       "      <td>3.1</td>\n",
       "    </tr>\n",
       "  </tbody>\n",
       "</table>\n",
       "</div>"
      ],
      "text/plain": [
       "  Company  Inches                    ScreenResolution  \\\n",
       "0   Apple    13.3  IPS Panel Retina Display 2560x1600   \n",
       "1   Apple    13.3                            1440x900   \n",
       "2      HP    15.6                   Full HD 1920x1080   \n",
       "3   Apple    15.4  IPS Panel Retina Display 2880x1800   \n",
       "4   Apple    13.3  IPS Panel Retina Display 2560x1600   \n",
       "\n",
       "                          Cpu  Ram               Memory  \\\n",
       "0        Intel Core i5 2.3GHz    8            128GB SSD   \n",
       "1        Intel Core i5 1.8GHz    8  128GB Flash Storage   \n",
       "2  Intel Core i5 7200U 2.5GHz    8            256GB SSD   \n",
       "3        Intel Core i7 2.7GHz   16            512GB SSD   \n",
       "4        Intel Core i5 3.1GHz    8            256GB SSD   \n",
       "\n",
       "                            Gpu  OpSys  Weight        Price  \\\n",
       "0  Intel Iris Plus Graphics 640  macOS  1.37kg   71378.6832   \n",
       "1        Intel HD Graphics 6000  macOS  1.34kg   47895.5232   \n",
       "2         Intel HD Graphics 620  No OS  1.86kg   30636.0000   \n",
       "3            AMD Radeon Pro 455  macOS  1.83kg  135195.3360   \n",
       "4  Intel Iris Plus Graphics 650  macOS  1.37kg   96095.8080   \n",
       "\n",
       "   TypeName_2 in 1 Convertible  TypeName_Gaming  TypeName_Netbook  \\\n",
       "0                        False            False             False   \n",
       "1                        False            False             False   \n",
       "2                        False            False             False   \n",
       "3                        False            False             False   \n",
       "4                        False            False             False   \n",
       "\n",
       "   TypeName_Notebook  TypeName_Ultrabook  TypeName_Workstation  \\\n",
       "0              False                True                 False   \n",
       "1              False                True                 False   \n",
       "2               True               False                 False   \n",
       "3              False                True                 False   \n",
       "4              False                True                 False   \n",
       "\n",
       "  CPU Manufacturer  CPU Series CPU Model  Clock Speed (GHz)  \n",
       "0            Intel  Intel Core         5                2.3  \n",
       "1            Intel  Intel Core         5                1.8  \n",
       "2            Intel  Intel Core         5                2.5  \n",
       "3            Intel  Intel Core         7                2.7  \n",
       "4            Intel  Intel Core         5                3.1  "
      ]
     },
     "execution_count": 59,
     "metadata": {},
     "output_type": "execute_result"
    }
   ],
   "source": [
    "df.head()"
   ]
  },
  {
   "cell_type": "markdown",
   "id": "b5ea0768-d7b0-43b4-a9e1-a3d12e0edfd3",
   "metadata": {},
   "source": [
    "##### Tablodaki işletim sistemleri düzenledim."
   ]
  },
  {
   "cell_type": "code",
   "execution_count": 62,
   "id": "80ba9026-8c9f-475e-b9d5-377d6d67691d",
   "metadata": {},
   "outputs": [],
   "source": [
    "df=pd.get_dummies(df, columns=['OpSys'])"
   ]
  },
  {
   "cell_type": "markdown",
   "id": "246eb047-6316-43d7-95da-d52234c7e45d",
   "metadata": {},
   "source": [
    "##### Tablodaki ağırlık sütunundaki verileri düzelttim."
   ]
  },
  {
   "cell_type": "code",
   "execution_count": 65,
   "id": "6a0ab282-0f1b-4288-84bc-4644df09540a",
   "metadata": {},
   "outputs": [],
   "source": [
    "df['Weight']= df['Weight'].str.replace('kg', '').astype(float)"
   ]
  },
  {
   "cell_type": "markdown",
   "id": "971c8705-a7c9-4fb8-adc0-9f28ef04928f",
   "metadata": {},
   "source": [
    "##### Depolama kısmı daha kolay anlaşılması için (Capacity MemoryType) olarak ayırdım ve tüm (TB,GB vb) yazıları kaldırdım."
   ]
  },
  {
   "cell_type": "code",
   "execution_count": 68,
   "id": "ad348f99-6aae-4c42-ab2f-e59c5179eb2d",
   "metadata": {},
   "outputs": [],
   "source": [
    "df['Capacity'] = df['Memory'].str.extract(r'(\\d+(?:\\.\\d+)?\\s?\\w+)')\n",
    "df['MemoryType'] = df['Memory'].str.extract(r'(SSD|HDD|Flash Storage|Hybrid)', expand=False)"
   ]
  },
  {
   "cell_type": "code",
   "execution_count": 70,
   "id": "24bd9230-ac73-4b95-aea3-15ac5acab0c8",
   "metadata": {},
   "outputs": [],
   "source": [
    "def convert_to_gb(value):\n",
    "    if 'TB' in value:\n",
    "        return float(value.replace('TB', '').strip()) * 1024  \n",
    "    elif 'GB' in value:\n",
    "        return float(value.replace('GB', '').strip())\n",
    "    else:\n",
    "        return None  \n",
    "\n",
    "df['Capacity'] = df['Capacity'].apply(convert_to_gb)"
   ]
  },
  {
   "cell_type": "markdown",
   "id": "d8c27e6b-fa1b-409a-81d2-9dbfa67d2e2a",
   "metadata": {},
   "source": [
    "##### GPU Kısmındaki marka model bilgisini ayırıyorum ki molel daha kolay anlasın."
   ]
  },
  {
   "cell_type": "code",
   "execution_count": 73,
   "id": "f27a4eef-2def-4450-a799-f6d6214f3552",
   "metadata": {},
   "outputs": [],
   "source": [
    "df['Gpu_Brand'] = df['Gpu'].apply(lambda x: x.split()[0])\n",
    "\n",
    "# Harici veya entegre GPU ayrımı\n",
    "def gpu_type(gpu):\n",
    "    if 'Intel' in gpu:\n",
    "        return 'Integrated'\n",
    "    else:\n",
    "        return 'Discrete'\n",
    "\n",
    "df['Gpu_Type'] = df['Gpu'].apply(gpu_type)"
   ]
  },
  {
   "cell_type": "markdown",
   "id": "88ea4ffd-1f6b-4f57-afa2-38e4bee06823",
   "metadata": {},
   "source": [
    "##### Kontrol yaptım."
   ]
  },
  {
   "cell_type": "code",
   "execution_count": 76,
   "id": "1c7ed5f7-9300-445d-9237-bbde8d0d49b4",
   "metadata": {},
   "outputs": [
    {
     "name": "stdout",
     "output_type": "stream",
     "text": [
      "<class 'pandas.core.frame.DataFrame'>\n",
      "RangeIndex: 1303 entries, 0 to 1302\n",
      "Data columns (total 32 columns):\n",
      " #   Column                       Non-Null Count  Dtype  \n",
      "---  ------                       --------------  -----  \n",
      " 0   Company                      1303 non-null   object \n",
      " 1   Inches                       1303 non-null   float64\n",
      " 2   ScreenResolution             1303 non-null   object \n",
      " 3   Cpu                          1303 non-null   object \n",
      " 4   Ram                          1303 non-null   int32  \n",
      " 5   Memory                       1303 non-null   object \n",
      " 6   Gpu                          1303 non-null   object \n",
      " 7   Weight                       1303 non-null   float64\n",
      " 8   Price                        1303 non-null   float64\n",
      " 9   TypeName_2 in 1 Convertible  1303 non-null   bool   \n",
      " 10  TypeName_Gaming              1303 non-null   bool   \n",
      " 11  TypeName_Netbook             1303 non-null   bool   \n",
      " 12  TypeName_Notebook            1303 non-null   bool   \n",
      " 13  TypeName_Ultrabook           1303 non-null   bool   \n",
      " 14  TypeName_Workstation         1303 non-null   bool   \n",
      " 15  CPU Manufacturer             1303 non-null   object \n",
      " 16  CPU Series                   1303 non-null   object \n",
      " 17  CPU Model                    1303 non-null   object \n",
      " 18  Clock Speed (GHz)            1303 non-null   float64\n",
      " 19  OpSys_Android                1303 non-null   bool   \n",
      " 20  OpSys_Chrome OS              1303 non-null   bool   \n",
      " 21  OpSys_Linux                  1303 non-null   bool   \n",
      " 22  OpSys_Mac OS X               1303 non-null   bool   \n",
      " 23  OpSys_No OS                  1303 non-null   bool   \n",
      " 24  OpSys_Windows 10             1303 non-null   bool   \n",
      " 25  OpSys_Windows 10 S           1303 non-null   bool   \n",
      " 26  OpSys_Windows 7              1303 non-null   bool   \n",
      " 27  OpSys_macOS                  1303 non-null   bool   \n",
      " 28  Capacity                     1303 non-null   float64\n",
      " 29  MemoryType                   1303 non-null   object \n",
      " 30  Gpu_Brand                    1303 non-null   object \n",
      " 31  Gpu_Type                     1303 non-null   object \n",
      "dtypes: bool(15), float64(5), int32(1), object(11)\n",
      "memory usage: 187.2+ KB\n"
     ]
    }
   ],
   "source": [
    "df.info()"
   ]
  },
  {
   "cell_type": "code",
   "execution_count": 78,
   "id": "1e93416d-bdc0-49e4-92f7-4e6d6830e356",
   "metadata": {},
   "outputs": [
    {
     "data": {
      "text/html": [
       "<div>\n",
       "<style scoped>\n",
       "    .dataframe tbody tr th:only-of-type {\n",
       "        vertical-align: middle;\n",
       "    }\n",
       "\n",
       "    .dataframe tbody tr th {\n",
       "        vertical-align: top;\n",
       "    }\n",
       "\n",
       "    .dataframe thead th {\n",
       "        text-align: right;\n",
       "    }\n",
       "</style>\n",
       "<table border=\"1\" class=\"dataframe\">\n",
       "  <thead>\n",
       "    <tr style=\"text-align: right;\">\n",
       "      <th></th>\n",
       "      <th>Company</th>\n",
       "      <th>Inches</th>\n",
       "      <th>ScreenResolution</th>\n",
       "      <th>Cpu</th>\n",
       "      <th>Ram</th>\n",
       "      <th>Memory</th>\n",
       "      <th>Gpu</th>\n",
       "      <th>Weight</th>\n",
       "      <th>Price</th>\n",
       "      <th>TypeName_2 in 1 Convertible</th>\n",
       "      <th>...</th>\n",
       "      <th>OpSys_Mac OS X</th>\n",
       "      <th>OpSys_No OS</th>\n",
       "      <th>OpSys_Windows 10</th>\n",
       "      <th>OpSys_Windows 10 S</th>\n",
       "      <th>OpSys_Windows 7</th>\n",
       "      <th>OpSys_macOS</th>\n",
       "      <th>Capacity</th>\n",
       "      <th>MemoryType</th>\n",
       "      <th>Gpu_Brand</th>\n",
       "      <th>Gpu_Type</th>\n",
       "    </tr>\n",
       "  </thead>\n",
       "  <tbody>\n",
       "    <tr>\n",
       "      <th>0</th>\n",
       "      <td>Apple</td>\n",
       "      <td>13.3</td>\n",
       "      <td>IPS Panel Retina Display 2560x1600</td>\n",
       "      <td>Intel Core i5 2.3GHz</td>\n",
       "      <td>8</td>\n",
       "      <td>128GB SSD</td>\n",
       "      <td>Intel Iris Plus Graphics 640</td>\n",
       "      <td>1.37</td>\n",
       "      <td>71378.6832</td>\n",
       "      <td>False</td>\n",
       "      <td>...</td>\n",
       "      <td>False</td>\n",
       "      <td>False</td>\n",
       "      <td>False</td>\n",
       "      <td>False</td>\n",
       "      <td>False</td>\n",
       "      <td>True</td>\n",
       "      <td>128.0</td>\n",
       "      <td>SSD</td>\n",
       "      <td>Intel</td>\n",
       "      <td>Integrated</td>\n",
       "    </tr>\n",
       "    <tr>\n",
       "      <th>1</th>\n",
       "      <td>Apple</td>\n",
       "      <td>13.3</td>\n",
       "      <td>1440x900</td>\n",
       "      <td>Intel Core i5 1.8GHz</td>\n",
       "      <td>8</td>\n",
       "      <td>128GB Flash Storage</td>\n",
       "      <td>Intel HD Graphics 6000</td>\n",
       "      <td>1.34</td>\n",
       "      <td>47895.5232</td>\n",
       "      <td>False</td>\n",
       "      <td>...</td>\n",
       "      <td>False</td>\n",
       "      <td>False</td>\n",
       "      <td>False</td>\n",
       "      <td>False</td>\n",
       "      <td>False</td>\n",
       "      <td>True</td>\n",
       "      <td>128.0</td>\n",
       "      <td>Flash Storage</td>\n",
       "      <td>Intel</td>\n",
       "      <td>Integrated</td>\n",
       "    </tr>\n",
       "    <tr>\n",
       "      <th>2</th>\n",
       "      <td>HP</td>\n",
       "      <td>15.6</td>\n",
       "      <td>Full HD 1920x1080</td>\n",
       "      <td>Intel Core i5 7200U 2.5GHz</td>\n",
       "      <td>8</td>\n",
       "      <td>256GB SSD</td>\n",
       "      <td>Intel HD Graphics 620</td>\n",
       "      <td>1.86</td>\n",
       "      <td>30636.0000</td>\n",
       "      <td>False</td>\n",
       "      <td>...</td>\n",
       "      <td>False</td>\n",
       "      <td>True</td>\n",
       "      <td>False</td>\n",
       "      <td>False</td>\n",
       "      <td>False</td>\n",
       "      <td>False</td>\n",
       "      <td>256.0</td>\n",
       "      <td>SSD</td>\n",
       "      <td>Intel</td>\n",
       "      <td>Integrated</td>\n",
       "    </tr>\n",
       "    <tr>\n",
       "      <th>3</th>\n",
       "      <td>Apple</td>\n",
       "      <td>15.4</td>\n",
       "      <td>IPS Panel Retina Display 2880x1800</td>\n",
       "      <td>Intel Core i7 2.7GHz</td>\n",
       "      <td>16</td>\n",
       "      <td>512GB SSD</td>\n",
       "      <td>AMD Radeon Pro 455</td>\n",
       "      <td>1.83</td>\n",
       "      <td>135195.3360</td>\n",
       "      <td>False</td>\n",
       "      <td>...</td>\n",
       "      <td>False</td>\n",
       "      <td>False</td>\n",
       "      <td>False</td>\n",
       "      <td>False</td>\n",
       "      <td>False</td>\n",
       "      <td>True</td>\n",
       "      <td>512.0</td>\n",
       "      <td>SSD</td>\n",
       "      <td>AMD</td>\n",
       "      <td>Discrete</td>\n",
       "    </tr>\n",
       "    <tr>\n",
       "      <th>4</th>\n",
       "      <td>Apple</td>\n",
       "      <td>13.3</td>\n",
       "      <td>IPS Panel Retina Display 2560x1600</td>\n",
       "      <td>Intel Core i5 3.1GHz</td>\n",
       "      <td>8</td>\n",
       "      <td>256GB SSD</td>\n",
       "      <td>Intel Iris Plus Graphics 650</td>\n",
       "      <td>1.37</td>\n",
       "      <td>96095.8080</td>\n",
       "      <td>False</td>\n",
       "      <td>...</td>\n",
       "      <td>False</td>\n",
       "      <td>False</td>\n",
       "      <td>False</td>\n",
       "      <td>False</td>\n",
       "      <td>False</td>\n",
       "      <td>True</td>\n",
       "      <td>256.0</td>\n",
       "      <td>SSD</td>\n",
       "      <td>Intel</td>\n",
       "      <td>Integrated</td>\n",
       "    </tr>\n",
       "  </tbody>\n",
       "</table>\n",
       "<p>5 rows × 32 columns</p>\n",
       "</div>"
      ],
      "text/plain": [
       "  Company  Inches                    ScreenResolution  \\\n",
       "0   Apple    13.3  IPS Panel Retina Display 2560x1600   \n",
       "1   Apple    13.3                            1440x900   \n",
       "2      HP    15.6                   Full HD 1920x1080   \n",
       "3   Apple    15.4  IPS Panel Retina Display 2880x1800   \n",
       "4   Apple    13.3  IPS Panel Retina Display 2560x1600   \n",
       "\n",
       "                          Cpu  Ram               Memory  \\\n",
       "0        Intel Core i5 2.3GHz    8            128GB SSD   \n",
       "1        Intel Core i5 1.8GHz    8  128GB Flash Storage   \n",
       "2  Intel Core i5 7200U 2.5GHz    8            256GB SSD   \n",
       "3        Intel Core i7 2.7GHz   16            512GB SSD   \n",
       "4        Intel Core i5 3.1GHz    8            256GB SSD   \n",
       "\n",
       "                            Gpu  Weight        Price  \\\n",
       "0  Intel Iris Plus Graphics 640    1.37   71378.6832   \n",
       "1        Intel HD Graphics 6000    1.34   47895.5232   \n",
       "2         Intel HD Graphics 620    1.86   30636.0000   \n",
       "3            AMD Radeon Pro 455    1.83  135195.3360   \n",
       "4  Intel Iris Plus Graphics 650    1.37   96095.8080   \n",
       "\n",
       "   TypeName_2 in 1 Convertible  ...  OpSys_Mac OS X  OpSys_No OS  \\\n",
       "0                        False  ...           False        False   \n",
       "1                        False  ...           False        False   \n",
       "2                        False  ...           False         True   \n",
       "3                        False  ...           False        False   \n",
       "4                        False  ...           False        False   \n",
       "\n",
       "   OpSys_Windows 10  OpSys_Windows 10 S  OpSys_Windows 7 OpSys_macOS Capacity  \\\n",
       "0             False               False            False        True    128.0   \n",
       "1             False               False            False        True    128.0   \n",
       "2             False               False            False       False    256.0   \n",
       "3             False               False            False        True    512.0   \n",
       "4             False               False            False        True    256.0   \n",
       "\n",
       "      MemoryType  Gpu_Brand    Gpu_Type  \n",
       "0            SSD      Intel  Integrated  \n",
       "1  Flash Storage      Intel  Integrated  \n",
       "2            SSD      Intel  Integrated  \n",
       "3            SSD        AMD    Discrete  \n",
       "4            SSD      Intel  Integrated  \n",
       "\n",
       "[5 rows x 32 columns]"
      ]
     },
     "execution_count": 78,
     "metadata": {},
     "output_type": "execute_result"
    }
   ],
   "source": [
    "df.head()"
   ]
  },
  {
   "cell_type": "markdown",
   "id": "62782cb0-053d-4e90-8290-29dc09175e97",
   "metadata": {},
   "source": [
    "### Özellik Mühendisliği"
   ]
  },
  {
   "cell_type": "markdown",
   "id": "7c3adc03-61f7-4c02-b52a-57e18030886b",
   "metadata": {},
   "source": [
    "##### İşlemci marka, model ve seri olamak üzere 3'e ayırdım."
   ]
  },
  {
   "cell_type": "code",
   "execution_count": 82,
   "id": "c22c69fe-1403-4e41-9db2-e7195d562fe2",
   "metadata": {},
   "outputs": [
    {
     "data": {
      "text/html": [
       "<div>\n",
       "<style scoped>\n",
       "    .dataframe tbody tr th:only-of-type {\n",
       "        vertical-align: middle;\n",
       "    }\n",
       "\n",
       "    .dataframe tbody tr th {\n",
       "        vertical-align: top;\n",
       "    }\n",
       "\n",
       "    .dataframe thead th {\n",
       "        text-align: right;\n",
       "    }\n",
       "</style>\n",
       "<table border=\"1\" class=\"dataframe\">\n",
       "  <thead>\n",
       "    <tr style=\"text-align: right;\">\n",
       "      <th></th>\n",
       "      <th>CPU Manufacturer</th>\n",
       "      <th>CPU Series</th>\n",
       "      <th>CPU Model</th>\n",
       "    </tr>\n",
       "  </thead>\n",
       "  <tbody>\n",
       "    <tr>\n",
       "      <th>0</th>\n",
       "      <td>Intel</td>\n",
       "      <td>Intel Core</td>\n",
       "      <td>5</td>\n",
       "    </tr>\n",
       "    <tr>\n",
       "      <th>1</th>\n",
       "      <td>Intel</td>\n",
       "      <td>Intel Core</td>\n",
       "      <td>5</td>\n",
       "    </tr>\n",
       "    <tr>\n",
       "      <th>2</th>\n",
       "      <td>Intel</td>\n",
       "      <td>Intel Core</td>\n",
       "      <td>5</td>\n",
       "    </tr>\n",
       "    <tr>\n",
       "      <th>3</th>\n",
       "      <td>Intel</td>\n",
       "      <td>Intel Core</td>\n",
       "      <td>7</td>\n",
       "    </tr>\n",
       "    <tr>\n",
       "      <th>4</th>\n",
       "      <td>Intel</td>\n",
       "      <td>Intel Core</td>\n",
       "      <td>5</td>\n",
       "    </tr>\n",
       "    <tr>\n",
       "      <th>...</th>\n",
       "      <td>...</td>\n",
       "      <td>...</td>\n",
       "      <td>...</td>\n",
       "    </tr>\n",
       "    <tr>\n",
       "      <th>1298</th>\n",
       "      <td>Intel</td>\n",
       "      <td>Intel Core</td>\n",
       "      <td>7</td>\n",
       "    </tr>\n",
       "    <tr>\n",
       "      <th>1299</th>\n",
       "      <td>Intel</td>\n",
       "      <td>Intel Core</td>\n",
       "      <td>7</td>\n",
       "    </tr>\n",
       "    <tr>\n",
       "      <th>1300</th>\n",
       "      <td>Intel</td>\n",
       "      <td>Intel Celeron</td>\n",
       "      <td>3050</td>\n",
       "    </tr>\n",
       "    <tr>\n",
       "      <th>1301</th>\n",
       "      <td>Intel</td>\n",
       "      <td>Intel Core</td>\n",
       "      <td>7</td>\n",
       "    </tr>\n",
       "    <tr>\n",
       "      <th>1302</th>\n",
       "      <td>Intel</td>\n",
       "      <td>Intel Celeron</td>\n",
       "      <td>3050</td>\n",
       "    </tr>\n",
       "  </tbody>\n",
       "</table>\n",
       "<p>1303 rows × 3 columns</p>\n",
       "</div>"
      ],
      "text/plain": [
       "     CPU Manufacturer     CPU Series CPU Model\n",
       "0               Intel     Intel Core         5\n",
       "1               Intel     Intel Core         5\n",
       "2               Intel     Intel Core         5\n",
       "3               Intel     Intel Core         7\n",
       "4               Intel     Intel Core         5\n",
       "...               ...            ...       ...\n",
       "1298            Intel     Intel Core         7\n",
       "1299            Intel     Intel Core         7\n",
       "1300            Intel  Intel Celeron      3050\n",
       "1301            Intel     Intel Core         7\n",
       "1302            Intel  Intel Celeron      3050\n",
       "\n",
       "[1303 rows x 3 columns]"
      ]
     },
     "execution_count": 82,
     "metadata": {},
     "output_type": "execute_result"
    }
   ],
   "source": [
    "df[['CPU Manufacturer', 'CPU Series', 'CPU Model']]"
   ]
  },
  {
   "cell_type": "code",
   "execution_count": 84,
   "id": "ed21bbbb-77d2-4031-9195-d7b55e92f16a",
   "metadata": {},
   "outputs": [
    {
     "data": {
      "text/plain": [
       "CPU Manufacturer\n",
       "Intel      1240\n",
       "AMD          62\n",
       "Samsung       1\n",
       "Name: count, dtype: int64"
      ]
     },
     "execution_count": 84,
     "metadata": {},
     "output_type": "execute_result"
    }
   ],
   "source": [
    "df['CPU Manufacturer'].value_counts()"
   ]
  },
  {
   "cell_type": "code",
   "execution_count": 86,
   "id": "0d596b0d-b4f7-4806-81f7-07cdef5e9aa6",
   "metadata": {},
   "outputs": [],
   "source": [
    "df=pd.get_dummies(df, columns=['CPU Manufacturer'])"
   ]
  },
  {
   "cell_type": "code",
   "execution_count": 88,
   "id": "4070bc31-e78c-49ba-b968-b312cd9b7ee2",
   "metadata": {},
   "outputs": [
    {
     "data": {
      "text/plain": [
       "CPU Series\n",
       "Intel Core        1105\n",
       "Intel Celeron       88\n",
       "Intel Pentium       30\n",
       "AMD A9-Series       17\n",
       "Intel Atom          13\n",
       "AMD A6-Series       11\n",
       "AMD E-Series         9\n",
       "AMD A12-Series       8\n",
       "AMD A10-Series       6\n",
       "AMD Ryzen            4\n",
       "Intel Xeon           4\n",
       "AMD A8-Series        4\n",
       "AMD FX               2\n",
       "AMD A4-Series        1\n",
       "Samsung Cortex       1\n",
       "Name: count, dtype: int64"
      ]
     },
     "execution_count": 88,
     "metadata": {},
     "output_type": "execute_result"
    }
   ],
   "source": [
    "df['CPU Series'].value_counts()"
   ]
  },
  {
   "cell_type": "code",
   "execution_count": 90,
   "id": "ed83477b-baa3-4821-9026-96506df0609b",
   "metadata": {},
   "outputs": [],
   "source": [
    "cpu_counts = df['CPU Series'].value_counts()\n",
    "df['CPU_Series_Frequency'] = df['CPU Series'].map(cpu_counts)"
   ]
  },
  {
   "cell_type": "code",
   "execution_count": 92,
   "id": "deb98692-f28d-4215-a897-037799853000",
   "metadata": {},
   "outputs": [],
   "source": [
    "cpu_model_counts = df['CPU Model'].value_counts()\n",
    "def categorize_popularity(count):\n",
    "    if count > 100:\n",
    "        return \"High\"\n",
    "    elif count > 10:\n",
    "        return \"Medium\"\n",
    "    else:\n",
    "        return \"Low\"\n",
    "\n",
    "df['CPU_Model_Popularity'] = df['CPU Model'].map(cpu_model_counts).apply(categorize_popularity)\n",
    "#Değerler ayarlandım."
   ]
  },
  {
   "cell_type": "code",
   "execution_count": 94,
   "id": "f0935068-77a3-4be5-8c61-f8977544b1fa",
   "metadata": {},
   "outputs": [],
   "source": [
    "df=pd.get_dummies(df, columns=['CPU_Model_Popularity'])"
   ]
  },
  {
   "cell_type": "code",
   "execution_count": 96,
   "id": "4f852f49-26b9-44aa-b026-bcc8d51acb5a",
   "metadata": {},
   "outputs": [
    {
     "data": {
      "text/html": [
       "<div>\n",
       "<style scoped>\n",
       "    .dataframe tbody tr th:only-of-type {\n",
       "        vertical-align: middle;\n",
       "    }\n",
       "\n",
       "    .dataframe tbody tr th {\n",
       "        vertical-align: top;\n",
       "    }\n",
       "\n",
       "    .dataframe thead th {\n",
       "        text-align: right;\n",
       "    }\n",
       "</style>\n",
       "<table border=\"1\" class=\"dataframe\">\n",
       "  <thead>\n",
       "    <tr style=\"text-align: right;\">\n",
       "      <th></th>\n",
       "      <th>Company</th>\n",
       "      <th>Inches</th>\n",
       "      <th>ScreenResolution</th>\n",
       "      <th>Cpu</th>\n",
       "      <th>Ram</th>\n",
       "      <th>Memory</th>\n",
       "      <th>Gpu</th>\n",
       "      <th>Weight</th>\n",
       "      <th>Price</th>\n",
       "      <th>TypeName_2 in 1 Convertible</th>\n",
       "      <th>...</th>\n",
       "      <th>MemoryType</th>\n",
       "      <th>Gpu_Brand</th>\n",
       "      <th>Gpu_Type</th>\n",
       "      <th>CPU Manufacturer_AMD</th>\n",
       "      <th>CPU Manufacturer_Intel</th>\n",
       "      <th>CPU Manufacturer_Samsung</th>\n",
       "      <th>CPU_Series_Frequency</th>\n",
       "      <th>CPU_Model_Popularity_High</th>\n",
       "      <th>CPU_Model_Popularity_Low</th>\n",
       "      <th>CPU_Model_Popularity_Medium</th>\n",
       "    </tr>\n",
       "  </thead>\n",
       "  <tbody>\n",
       "    <tr>\n",
       "      <th>0</th>\n",
       "      <td>Apple</td>\n",
       "      <td>13.3</td>\n",
       "      <td>IPS Panel Retina Display 2560x1600</td>\n",
       "      <td>Intel Core i5 2.3GHz</td>\n",
       "      <td>8</td>\n",
       "      <td>128GB SSD</td>\n",
       "      <td>Intel Iris Plus Graphics 640</td>\n",
       "      <td>1.37</td>\n",
       "      <td>71378.6832</td>\n",
       "      <td>False</td>\n",
       "      <td>...</td>\n",
       "      <td>SSD</td>\n",
       "      <td>Intel</td>\n",
       "      <td>Integrated</td>\n",
       "      <td>False</td>\n",
       "      <td>True</td>\n",
       "      <td>False</td>\n",
       "      <td>1105</td>\n",
       "      <td>True</td>\n",
       "      <td>False</td>\n",
       "      <td>False</td>\n",
       "    </tr>\n",
       "    <tr>\n",
       "      <th>1</th>\n",
       "      <td>Apple</td>\n",
       "      <td>13.3</td>\n",
       "      <td>1440x900</td>\n",
       "      <td>Intel Core i5 1.8GHz</td>\n",
       "      <td>8</td>\n",
       "      <td>128GB Flash Storage</td>\n",
       "      <td>Intel HD Graphics 6000</td>\n",
       "      <td>1.34</td>\n",
       "      <td>47895.5232</td>\n",
       "      <td>False</td>\n",
       "      <td>...</td>\n",
       "      <td>Flash Storage</td>\n",
       "      <td>Intel</td>\n",
       "      <td>Integrated</td>\n",
       "      <td>False</td>\n",
       "      <td>True</td>\n",
       "      <td>False</td>\n",
       "      <td>1105</td>\n",
       "      <td>True</td>\n",
       "      <td>False</td>\n",
       "      <td>False</td>\n",
       "    </tr>\n",
       "    <tr>\n",
       "      <th>2</th>\n",
       "      <td>HP</td>\n",
       "      <td>15.6</td>\n",
       "      <td>Full HD 1920x1080</td>\n",
       "      <td>Intel Core i5 7200U 2.5GHz</td>\n",
       "      <td>8</td>\n",
       "      <td>256GB SSD</td>\n",
       "      <td>Intel HD Graphics 620</td>\n",
       "      <td>1.86</td>\n",
       "      <td>30636.0000</td>\n",
       "      <td>False</td>\n",
       "      <td>...</td>\n",
       "      <td>SSD</td>\n",
       "      <td>Intel</td>\n",
       "      <td>Integrated</td>\n",
       "      <td>False</td>\n",
       "      <td>True</td>\n",
       "      <td>False</td>\n",
       "      <td>1105</td>\n",
       "      <td>True</td>\n",
       "      <td>False</td>\n",
       "      <td>False</td>\n",
       "    </tr>\n",
       "    <tr>\n",
       "      <th>3</th>\n",
       "      <td>Apple</td>\n",
       "      <td>15.4</td>\n",
       "      <td>IPS Panel Retina Display 2880x1800</td>\n",
       "      <td>Intel Core i7 2.7GHz</td>\n",
       "      <td>16</td>\n",
       "      <td>512GB SSD</td>\n",
       "      <td>AMD Radeon Pro 455</td>\n",
       "      <td>1.83</td>\n",
       "      <td>135195.3360</td>\n",
       "      <td>False</td>\n",
       "      <td>...</td>\n",
       "      <td>SSD</td>\n",
       "      <td>AMD</td>\n",
       "      <td>Discrete</td>\n",
       "      <td>False</td>\n",
       "      <td>True</td>\n",
       "      <td>False</td>\n",
       "      <td>1105</td>\n",
       "      <td>True</td>\n",
       "      <td>False</td>\n",
       "      <td>False</td>\n",
       "    </tr>\n",
       "    <tr>\n",
       "      <th>4</th>\n",
       "      <td>Apple</td>\n",
       "      <td>13.3</td>\n",
       "      <td>IPS Panel Retina Display 2560x1600</td>\n",
       "      <td>Intel Core i5 3.1GHz</td>\n",
       "      <td>8</td>\n",
       "      <td>256GB SSD</td>\n",
       "      <td>Intel Iris Plus Graphics 650</td>\n",
       "      <td>1.37</td>\n",
       "      <td>96095.8080</td>\n",
       "      <td>False</td>\n",
       "      <td>...</td>\n",
       "      <td>SSD</td>\n",
       "      <td>Intel</td>\n",
       "      <td>Integrated</td>\n",
       "      <td>False</td>\n",
       "      <td>True</td>\n",
       "      <td>False</td>\n",
       "      <td>1105</td>\n",
       "      <td>True</td>\n",
       "      <td>False</td>\n",
       "      <td>False</td>\n",
       "    </tr>\n",
       "  </tbody>\n",
       "</table>\n",
       "<p>5 rows × 38 columns</p>\n",
       "</div>"
      ],
      "text/plain": [
       "  Company  Inches                    ScreenResolution  \\\n",
       "0   Apple    13.3  IPS Panel Retina Display 2560x1600   \n",
       "1   Apple    13.3                            1440x900   \n",
       "2      HP    15.6                   Full HD 1920x1080   \n",
       "3   Apple    15.4  IPS Panel Retina Display 2880x1800   \n",
       "4   Apple    13.3  IPS Panel Retina Display 2560x1600   \n",
       "\n",
       "                          Cpu  Ram               Memory  \\\n",
       "0        Intel Core i5 2.3GHz    8            128GB SSD   \n",
       "1        Intel Core i5 1.8GHz    8  128GB Flash Storage   \n",
       "2  Intel Core i5 7200U 2.5GHz    8            256GB SSD   \n",
       "3        Intel Core i7 2.7GHz   16            512GB SSD   \n",
       "4        Intel Core i5 3.1GHz    8            256GB SSD   \n",
       "\n",
       "                            Gpu  Weight        Price  \\\n",
       "0  Intel Iris Plus Graphics 640    1.37   71378.6832   \n",
       "1        Intel HD Graphics 6000    1.34   47895.5232   \n",
       "2         Intel HD Graphics 620    1.86   30636.0000   \n",
       "3            AMD Radeon Pro 455    1.83  135195.3360   \n",
       "4  Intel Iris Plus Graphics 650    1.37   96095.8080   \n",
       "\n",
       "   TypeName_2 in 1 Convertible  ...     MemoryType  Gpu_Brand    Gpu_Type  \\\n",
       "0                        False  ...            SSD      Intel  Integrated   \n",
       "1                        False  ...  Flash Storage      Intel  Integrated   \n",
       "2                        False  ...            SSD      Intel  Integrated   \n",
       "3                        False  ...            SSD        AMD    Discrete   \n",
       "4                        False  ...            SSD      Intel  Integrated   \n",
       "\n",
       "   CPU Manufacturer_AMD  CPU Manufacturer_Intel CPU Manufacturer_Samsung  \\\n",
       "0                 False                    True                    False   \n",
       "1                 False                    True                    False   \n",
       "2                 False                    True                    False   \n",
       "3                 False                    True                    False   \n",
       "4                 False                    True                    False   \n",
       "\n",
       "  CPU_Series_Frequency  CPU_Model_Popularity_High  CPU_Model_Popularity_Low  \\\n",
       "0                 1105                       True                     False   \n",
       "1                 1105                       True                     False   \n",
       "2                 1105                       True                     False   \n",
       "3                 1105                       True                     False   \n",
       "4                 1105                       True                     False   \n",
       "\n",
       "   CPU_Model_Popularity_Medium  \n",
       "0                        False  \n",
       "1                        False  \n",
       "2                        False  \n",
       "3                        False  \n",
       "4                        False  \n",
       "\n",
       "[5 rows x 38 columns]"
      ]
     },
     "execution_count": 96,
     "metadata": {},
     "output_type": "execute_result"
    }
   ],
   "source": [
    "df.head()"
   ]
  },
  {
   "cell_type": "markdown",
   "id": "45832880-560b-431d-9992-aba2240445f3",
   "metadata": {},
   "source": [
    "##### Depolama alanı ayarladım."
   ]
  },
  {
   "cell_type": "code",
   "execution_count": 99,
   "id": "f12b6427-f530-4ff7-a123-67eabac8c4d2",
   "metadata": {},
   "outputs": [
    {
     "data": {
      "text/plain": [
       "MemoryType\n",
       "SSD              843\n",
       "HDD              375\n",
       "Flash Storage     75\n",
       "Hybrid            10\n",
       "Name: count, dtype: int64"
      ]
     },
     "execution_count": 99,
     "metadata": {},
     "output_type": "execute_result"
    }
   ],
   "source": [
    "df['MemoryType'].value_counts()"
   ]
  },
  {
   "cell_type": "code",
   "execution_count": 101,
   "id": "7ea787fd-6f0d-4d4b-9bbc-22412b366933",
   "metadata": {},
   "outputs": [],
   "source": [
    "df=pd.get_dummies(df, columns=['MemoryType'])"
   ]
  },
  {
   "cell_type": "markdown",
   "id": "213dcb02-58c6-4a21-9c05-14b54f6c99bd",
   "metadata": {},
   "source": [
    "##### Ekran kartı sütununu ayarladım."
   ]
  },
  {
   "cell_type": "code",
   "execution_count": 104,
   "id": "ddd293e0-b8da-4ab6-a01d-7d61f5c4a429",
   "metadata": {},
   "outputs": [
    {
     "data": {
      "text/plain": [
       "Gpu_Brand\n",
       "Intel     722\n",
       "Nvidia    400\n",
       "AMD       180\n",
       "ARM         1\n",
       "Name: count, dtype: int64"
      ]
     },
     "execution_count": 104,
     "metadata": {},
     "output_type": "execute_result"
    }
   ],
   "source": [
    "df['Gpu_Brand'].value_counts()"
   ]
  },
  {
   "cell_type": "code",
   "execution_count": 106,
   "id": "a82f9f94-d124-4d34-ace6-c1b1dc41f0ae",
   "metadata": {},
   "outputs": [],
   "source": [
    "df=pd.get_dummies(df, columns=['Gpu_Brand'])"
   ]
  },
  {
   "cell_type": "markdown",
   "id": "f461b150-1e62-4d00-86b1-e82b1051e167",
   "metadata": {},
   "source": [
    "#### Model Test"
   ]
  },
  {
   "cell_type": "markdown",
   "id": "b2e435bb-38f8-4ec3-b3a9-fc5e7e52785a",
   "metadata": {},
   "source": [
    "##### Test için gerekli tanımlamalar ve kodları yazdım."
   ]
  },
  {
   "cell_type": "code",
   "execution_count": 110,
   "id": "60671e3a-8a20-4a7c-9ee2-06372073c5f1",
   "metadata": {},
   "outputs": [],
   "source": [
    "x=df[[\"Inches\", \"Ram\", \"TypeName_2 in 1 Convertible\", \"TypeName_Gaming\", \"TypeName_Netbook\", \"TypeName_Notebook\", \"TypeName_Ultrabook\", \"TypeName_Workstation\", \"Clock Speed (GHz)\",\"Capacity\", \"OpSys_Android\", \"OpSys_Chrome OS\",\"OpSys_Linux\" ,\"OpSys_Mac OS X\", \"OpSys_No OS\", \"OpSys_Windows 10\", \"OpSys_Windows 10 S\", \"OpSys_Windows 7\", \"OpSys_macOS\" , \"CPU Manufacturer_AMD\", \"CPU Manufacturer_Intel\", \"CPU Manufacturer_Samsung\", \"CPU_Series_Frequency\", \"CPU_Model_Popularity_High\", \"CPU_Model_Popularity_Low\", \"CPU_Model_Popularity_Medium\", \"MemoryType_Flash Storage\", \"MemoryType_HDD\", \"MemoryType_Hybrid\", \"MemoryType_SSD\", \"Gpu_Brand_AMD\", \"Gpu_Brand_ARM\", \"Gpu_Brand_Intel\", \"Gpu_Brand_Nvidia\"]]\n",
    "y=df[[\"Price\"]]"
   ]
  },
  {
   "cell_type": "code",
   "execution_count": 112,
   "id": "be651933-1d59-439b-9e8e-f0d8eaacd379",
   "metadata": {},
   "outputs": [],
   "source": [
    "from sklearn.model_selection import train_test_split"
   ]
  },
  {
   "cell_type": "code",
   "execution_count": 113,
   "id": "63cae9da-0f05-42ae-b343-d753789c8011",
   "metadata": {},
   "outputs": [],
   "source": [
    "x_train, x_test, y_train, y_test = train_test_split(x, y, test_size=.2, random_state=42)"
   ]
  },
  {
   "cell_type": "code",
   "execution_count": 114,
   "id": "fc565f4f-993b-4389-a462-b253b69e03d8",
   "metadata": {},
   "outputs": [
    {
     "data": {
      "text/plain": [
       "((1042, 34), (261, 34), (1042, 1), (261, 1))"
      ]
     },
     "execution_count": 114,
     "metadata": {},
     "output_type": "execute_result"
    }
   ],
   "source": [
    "x_train.shape, x_test.shape, y_train.shape, y_test.shape"
   ]
  },
  {
   "cell_type": "code",
   "execution_count": 118,
   "id": "e44dc70d-e528-4918-bd82-463cbbab87dc",
   "metadata": {},
   "outputs": [],
   "source": [
    "from sklearn.metrics import r2_score, mean_squared_error"
   ]
  },
  {
   "cell_type": "markdown",
   "id": "96ee0536-1cde-4b49-8d76-b9ac1d9520fd",
   "metadata": {},
   "source": [
    "##### 1.Random Forest"
   ]
  },
  {
   "cell_type": "code",
   "execution_count": 121,
   "id": "d5749beb-b05b-46a2-a73a-a23a9d7c3085",
   "metadata": {},
   "outputs": [],
   "source": [
    "from sklearn.ensemble import RandomForestRegressor"
   ]
  },
  {
   "cell_type": "code",
   "execution_count": 122,
   "id": "53b5acf5-bdf5-46c9-abed-4051b82b523b",
   "metadata": {},
   "outputs": [
    {
     "name": "stderr",
     "output_type": "stream",
     "text": [
      "C:\\Users\\hakki\\anaconda3\\Lib\\site-packages\\sklearn\\base.py:1474: DataConversionWarning: A column-vector y was passed when a 1d array was expected. Please change the shape of y to (n_samples,), for example using ravel().\n",
      "  return fit_method(estimator, *args, **kwargs)\n"
     ]
    }
   ],
   "source": [
    "rf = RandomForestRegressor()\n",
    "model = rf.fit(x_train, y_train)\n",
    "tahmin = model.predict(x_test)"
   ]
  },
  {
   "cell_type": "code",
   "execution_count": 124,
   "id": "28d0c643-b862-4937-9815-7a0ca55e615e",
   "metadata": {},
   "outputs": [
    {
     "data": {
      "text/plain": [
       "0.8126611687961725"
      ]
     },
     "execution_count": 124,
     "metadata": {},
     "output_type": "execute_result"
    }
   ],
   "source": [
    "r2_score(y_test, tahmin)"
   ]
  },
  {
   "cell_type": "code",
   "execution_count": 125,
   "id": "c1111b48-6bb0-4498-a839-14ce76fdfd80",
   "metadata": {},
   "outputs": [
    {
     "data": {
      "text/plain": [
       "16435.33519490141"
      ]
     },
     "execution_count": 125,
     "metadata": {},
     "output_type": "execute_result"
    }
   ],
   "source": [
    "mean_squared_error(y_test, tahmin) ** .5"
   ]
  },
  {
   "cell_type": "markdown",
   "id": "ffed5027-6f2a-475a-add2-0381d9e787e6",
   "metadata": {},
   "source": [
    "##### 2.Gradient Boosting\t"
   ]
  },
  {
   "cell_type": "code",
   "execution_count": 130,
   "id": "819c6f06-1b92-459b-9cba-e6f0b4138223",
   "metadata": {},
   "outputs": [],
   "source": [
    "from sklearn.ensemble import GradientBoostingRegressor"
   ]
  },
  {
   "cell_type": "code",
   "execution_count": 132,
   "id": "171cfa9b-9ae8-4a67-b0ed-94831388e04c",
   "metadata": {},
   "outputs": [
    {
     "name": "stderr",
     "output_type": "stream",
     "text": [
      "C:\\Users\\hakki\\anaconda3\\Lib\\site-packages\\sklearn\\ensemble\\_gb.py:668: DataConversionWarning: A column-vector y was passed when a 1d array was expected. Please change the shape of y to (n_samples, ), for example using ravel().\n",
      "  y = column_or_1d(y, warn=True)  # TODO: Is this still required?\n"
     ]
    }
   ],
   "source": [
    "gf = GradientBoostingRegressor()\n",
    "model = gf.fit(x_train, y_train)\n",
    "tahmin = model.predict(x_test)"
   ]
  },
  {
   "cell_type": "code",
   "execution_count": 133,
   "id": "829fb6c0-7769-4a7d-9d3c-62ef881e3bbd",
   "metadata": {},
   "outputs": [
    {
     "data": {
      "text/plain": [
       "0.8084083654719797"
      ]
     },
     "execution_count": 133,
     "metadata": {},
     "output_type": "execute_result"
    }
   ],
   "source": [
    "r2_score(y_test, tahmin)"
   ]
  },
  {
   "cell_type": "code",
   "execution_count": 136,
   "id": "73b45f66-0892-4e5f-9de2-949d1b50cca8",
   "metadata": {},
   "outputs": [
    {
     "data": {
      "text/plain": [
       "16620.8386658146"
      ]
     },
     "execution_count": 136,
     "metadata": {},
     "output_type": "execute_result"
    }
   ],
   "source": [
    "mean_squared_error(y_test, tahmin) ** .5"
   ]
  },
  {
   "cell_type": "markdown",
   "id": "35fc66c1-dd74-411d-9982-d46b900b5115",
   "metadata": {},
   "source": [
    "##### 3.Decision Tree"
   ]
  },
  {
   "cell_type": "code",
   "execution_count": 139,
   "id": "3378d2cc-518a-400f-b401-f1a86b879c37",
   "metadata": {},
   "outputs": [],
   "source": [
    "from sklearn.tree import DecisionTreeRegressor"
   ]
  },
  {
   "cell_type": "code",
   "execution_count": 141,
   "id": "6d727ce0-564e-4800-af49-9fda624eff44",
   "metadata": {},
   "outputs": [],
   "source": [
    "df = DecisionTreeRegressor()\n",
    "model = df.fit(x_train, y_train)\n",
    "tahmin = model.predict(x_test)"
   ]
  },
  {
   "cell_type": "code",
   "execution_count": 143,
   "id": "360b9f42-10fa-4e8e-8878-8a6158bed20f",
   "metadata": {},
   "outputs": [
    {
     "data": {
      "text/plain": [
       "0.7385712255362455"
      ]
     },
     "execution_count": 143,
     "metadata": {},
     "output_type": "execute_result"
    }
   ],
   "source": [
    "r2_score(y_test, tahmin)"
   ]
  },
  {
   "cell_type": "code",
   "execution_count": 145,
   "id": "7ea34578-b79b-4004-b200-5101e2eb96b1",
   "metadata": {},
   "outputs": [
    {
     "data": {
      "text/plain": [
       "19415.177088736826"
      ]
     },
     "execution_count": 145,
     "metadata": {},
     "output_type": "execute_result"
    }
   ],
   "source": [
    "mean_squared_error(y_test, tahmin) ** .5"
   ]
  },
  {
   "cell_type": "markdown",
   "id": "e6102e41-dfaa-42a3-9ffa-070970382a86",
   "metadata": {},
   "source": [
    "##### 4.Extra Trees"
   ]
  },
  {
   "cell_type": "code",
   "execution_count": 148,
   "id": "7b96ea4b-cb2f-4f1b-ad7d-f6217f87ea8d",
   "metadata": {},
   "outputs": [],
   "source": [
    "from sklearn.ensemble import ExtraTreesRegressor"
   ]
  },
  {
   "cell_type": "code",
   "execution_count": 150,
   "id": "a98df8ae-e3c5-42d2-a0cb-44b4a683c51b",
   "metadata": {},
   "outputs": [],
   "source": [
    "ef = DecisionTreeRegressor()\n",
    "model = ef.fit(x_train, y_train)\n",
    "tahmin = model.predict(x_test)"
   ]
  },
  {
   "cell_type": "code",
   "execution_count": 152,
   "id": "a53a5618-f961-4a73-8f41-233641917716",
   "metadata": {},
   "outputs": [
    {
     "data": {
      "text/plain": [
       "0.7382647227994674"
      ]
     },
     "execution_count": 152,
     "metadata": {},
     "output_type": "execute_result"
    }
   ],
   "source": [
    "r2_score(y_test, tahmin)"
   ]
  },
  {
   "cell_type": "code",
   "execution_count": 154,
   "id": "230ff6a2-084e-44ac-8006-4946be5877fe",
   "metadata": {},
   "outputs": [
    {
     "data": {
      "text/plain": [
       "19426.555066820925"
      ]
     },
     "execution_count": 154,
     "metadata": {},
     "output_type": "execute_result"
    }
   ],
   "source": [
    "mean_squared_error(y_test, tahmin) ** .5"
   ]
  },
  {
   "cell_type": "markdown",
   "id": "98a572ec-ce8b-4531-b7ba-7a3b2db360bb",
   "metadata": {},
   "source": [
    "##### 5.Linear Regression"
   ]
  },
  {
   "cell_type": "code",
   "execution_count": 157,
   "id": "cc838c68-4c97-4160-a2f7-b5b91851d3bf",
   "metadata": {},
   "outputs": [],
   "source": [
    "from sklearn.linear_model import LinearRegression"
   ]
  },
  {
   "cell_type": "code",
   "execution_count": 159,
   "id": "54079aba-35d8-4b72-830c-f512ce2888a5",
   "metadata": {},
   "outputs": [],
   "source": [
    "lr = LinearRegression()"
   ]
  },
  {
   "cell_type": "code",
   "execution_count": 161,
   "id": "2194cd95-f88d-4976-a9d0-a5a79530a2e0",
   "metadata": {},
   "outputs": [
    {
     "data": {
      "text/html": [
       "<style>#sk-container-id-1 {\n",
       "  /* Definition of color scheme common for light and dark mode */\n",
       "  --sklearn-color-text: black;\n",
       "  --sklearn-color-line: gray;\n",
       "  /* Definition of color scheme for unfitted estimators */\n",
       "  --sklearn-color-unfitted-level-0: #fff5e6;\n",
       "  --sklearn-color-unfitted-level-1: #f6e4d2;\n",
       "  --sklearn-color-unfitted-level-2: #ffe0b3;\n",
       "  --sklearn-color-unfitted-level-3: chocolate;\n",
       "  /* Definition of color scheme for fitted estimators */\n",
       "  --sklearn-color-fitted-level-0: #f0f8ff;\n",
       "  --sklearn-color-fitted-level-1: #d4ebff;\n",
       "  --sklearn-color-fitted-level-2: #b3dbfd;\n",
       "  --sklearn-color-fitted-level-3: cornflowerblue;\n",
       "\n",
       "  /* Specific color for light theme */\n",
       "  --sklearn-color-text-on-default-background: var(--sg-text-color, var(--theme-code-foreground, var(--jp-content-font-color1, black)));\n",
       "  --sklearn-color-background: var(--sg-background-color, var(--theme-background, var(--jp-layout-color0, white)));\n",
       "  --sklearn-color-border-box: var(--sg-text-color, var(--theme-code-foreground, var(--jp-content-font-color1, black)));\n",
       "  --sklearn-color-icon: #696969;\n",
       "\n",
       "  @media (prefers-color-scheme: dark) {\n",
       "    /* Redefinition of color scheme for dark theme */\n",
       "    --sklearn-color-text-on-default-background: var(--sg-text-color, var(--theme-code-foreground, var(--jp-content-font-color1, white)));\n",
       "    --sklearn-color-background: var(--sg-background-color, var(--theme-background, var(--jp-layout-color0, #111)));\n",
       "    --sklearn-color-border-box: var(--sg-text-color, var(--theme-code-foreground, var(--jp-content-font-color1, white)));\n",
       "    --sklearn-color-icon: #878787;\n",
       "  }\n",
       "}\n",
       "\n",
       "#sk-container-id-1 {\n",
       "  color: var(--sklearn-color-text);\n",
       "}\n",
       "\n",
       "#sk-container-id-1 pre {\n",
       "  padding: 0;\n",
       "}\n",
       "\n",
       "#sk-container-id-1 input.sk-hidden--visually {\n",
       "  border: 0;\n",
       "  clip: rect(1px 1px 1px 1px);\n",
       "  clip: rect(1px, 1px, 1px, 1px);\n",
       "  height: 1px;\n",
       "  margin: -1px;\n",
       "  overflow: hidden;\n",
       "  padding: 0;\n",
       "  position: absolute;\n",
       "  width: 1px;\n",
       "}\n",
       "\n",
       "#sk-container-id-1 div.sk-dashed-wrapped {\n",
       "  border: 1px dashed var(--sklearn-color-line);\n",
       "  margin: 0 0.4em 0.5em 0.4em;\n",
       "  box-sizing: border-box;\n",
       "  padding-bottom: 0.4em;\n",
       "  background-color: var(--sklearn-color-background);\n",
       "}\n",
       "\n",
       "#sk-container-id-1 div.sk-container {\n",
       "  /* jupyter's `normalize.less` sets `[hidden] { display: none; }`\n",
       "     but bootstrap.min.css set `[hidden] { display: none !important; }`\n",
       "     so we also need the `!important` here to be able to override the\n",
       "     default hidden behavior on the sphinx rendered scikit-learn.org.\n",
       "     See: https://github.com/scikit-learn/scikit-learn/issues/21755 */\n",
       "  display: inline-block !important;\n",
       "  position: relative;\n",
       "}\n",
       "\n",
       "#sk-container-id-1 div.sk-text-repr-fallback {\n",
       "  display: none;\n",
       "}\n",
       "\n",
       "div.sk-parallel-item,\n",
       "div.sk-serial,\n",
       "div.sk-item {\n",
       "  /* draw centered vertical line to link estimators */\n",
       "  background-image: linear-gradient(var(--sklearn-color-text-on-default-background), var(--sklearn-color-text-on-default-background));\n",
       "  background-size: 2px 100%;\n",
       "  background-repeat: no-repeat;\n",
       "  background-position: center center;\n",
       "}\n",
       "\n",
       "/* Parallel-specific style estimator block */\n",
       "\n",
       "#sk-container-id-1 div.sk-parallel-item::after {\n",
       "  content: \"\";\n",
       "  width: 100%;\n",
       "  border-bottom: 2px solid var(--sklearn-color-text-on-default-background);\n",
       "  flex-grow: 1;\n",
       "}\n",
       "\n",
       "#sk-container-id-1 div.sk-parallel {\n",
       "  display: flex;\n",
       "  align-items: stretch;\n",
       "  justify-content: center;\n",
       "  background-color: var(--sklearn-color-background);\n",
       "  position: relative;\n",
       "}\n",
       "\n",
       "#sk-container-id-1 div.sk-parallel-item {\n",
       "  display: flex;\n",
       "  flex-direction: column;\n",
       "}\n",
       "\n",
       "#sk-container-id-1 div.sk-parallel-item:first-child::after {\n",
       "  align-self: flex-end;\n",
       "  width: 50%;\n",
       "}\n",
       "\n",
       "#sk-container-id-1 div.sk-parallel-item:last-child::after {\n",
       "  align-self: flex-start;\n",
       "  width: 50%;\n",
       "}\n",
       "\n",
       "#sk-container-id-1 div.sk-parallel-item:only-child::after {\n",
       "  width: 0;\n",
       "}\n",
       "\n",
       "/* Serial-specific style estimator block */\n",
       "\n",
       "#sk-container-id-1 div.sk-serial {\n",
       "  display: flex;\n",
       "  flex-direction: column;\n",
       "  align-items: center;\n",
       "  background-color: var(--sklearn-color-background);\n",
       "  padding-right: 1em;\n",
       "  padding-left: 1em;\n",
       "}\n",
       "\n",
       "\n",
       "/* Toggleable style: style used for estimator/Pipeline/ColumnTransformer box that is\n",
       "clickable and can be expanded/collapsed.\n",
       "- Pipeline and ColumnTransformer use this feature and define the default style\n",
       "- Estimators will overwrite some part of the style using the `sk-estimator` class\n",
       "*/\n",
       "\n",
       "/* Pipeline and ColumnTransformer style (default) */\n",
       "\n",
       "#sk-container-id-1 div.sk-toggleable {\n",
       "  /* Default theme specific background. It is overwritten whether we have a\n",
       "  specific estimator or a Pipeline/ColumnTransformer */\n",
       "  background-color: var(--sklearn-color-background);\n",
       "}\n",
       "\n",
       "/* Toggleable label */\n",
       "#sk-container-id-1 label.sk-toggleable__label {\n",
       "  cursor: pointer;\n",
       "  display: block;\n",
       "  width: 100%;\n",
       "  margin-bottom: 0;\n",
       "  padding: 0.5em;\n",
       "  box-sizing: border-box;\n",
       "  text-align: center;\n",
       "}\n",
       "\n",
       "#sk-container-id-1 label.sk-toggleable__label-arrow:before {\n",
       "  /* Arrow on the left of the label */\n",
       "  content: \"▸\";\n",
       "  float: left;\n",
       "  margin-right: 0.25em;\n",
       "  color: var(--sklearn-color-icon);\n",
       "}\n",
       "\n",
       "#sk-container-id-1 label.sk-toggleable__label-arrow:hover:before {\n",
       "  color: var(--sklearn-color-text);\n",
       "}\n",
       "\n",
       "/* Toggleable content - dropdown */\n",
       "\n",
       "#sk-container-id-1 div.sk-toggleable__content {\n",
       "  max-height: 0;\n",
       "  max-width: 0;\n",
       "  overflow: hidden;\n",
       "  text-align: left;\n",
       "  /* unfitted */\n",
       "  background-color: var(--sklearn-color-unfitted-level-0);\n",
       "}\n",
       "\n",
       "#sk-container-id-1 div.sk-toggleable__content.fitted {\n",
       "  /* fitted */\n",
       "  background-color: var(--sklearn-color-fitted-level-0);\n",
       "}\n",
       "\n",
       "#sk-container-id-1 div.sk-toggleable__content pre {\n",
       "  margin: 0.2em;\n",
       "  border-radius: 0.25em;\n",
       "  color: var(--sklearn-color-text);\n",
       "  /* unfitted */\n",
       "  background-color: var(--sklearn-color-unfitted-level-0);\n",
       "}\n",
       "\n",
       "#sk-container-id-1 div.sk-toggleable__content.fitted pre {\n",
       "  /* unfitted */\n",
       "  background-color: var(--sklearn-color-fitted-level-0);\n",
       "}\n",
       "\n",
       "#sk-container-id-1 input.sk-toggleable__control:checked~div.sk-toggleable__content {\n",
       "  /* Expand drop-down */\n",
       "  max-height: 200px;\n",
       "  max-width: 100%;\n",
       "  overflow: auto;\n",
       "}\n",
       "\n",
       "#sk-container-id-1 input.sk-toggleable__control:checked~label.sk-toggleable__label-arrow:before {\n",
       "  content: \"▾\";\n",
       "}\n",
       "\n",
       "/* Pipeline/ColumnTransformer-specific style */\n",
       "\n",
       "#sk-container-id-1 div.sk-label input.sk-toggleable__control:checked~label.sk-toggleable__label {\n",
       "  color: var(--sklearn-color-text);\n",
       "  background-color: var(--sklearn-color-unfitted-level-2);\n",
       "}\n",
       "\n",
       "#sk-container-id-1 div.sk-label.fitted input.sk-toggleable__control:checked~label.sk-toggleable__label {\n",
       "  background-color: var(--sklearn-color-fitted-level-2);\n",
       "}\n",
       "\n",
       "/* Estimator-specific style */\n",
       "\n",
       "/* Colorize estimator box */\n",
       "#sk-container-id-1 div.sk-estimator input.sk-toggleable__control:checked~label.sk-toggleable__label {\n",
       "  /* unfitted */\n",
       "  background-color: var(--sklearn-color-unfitted-level-2);\n",
       "}\n",
       "\n",
       "#sk-container-id-1 div.sk-estimator.fitted input.sk-toggleable__control:checked~label.sk-toggleable__label {\n",
       "  /* fitted */\n",
       "  background-color: var(--sklearn-color-fitted-level-2);\n",
       "}\n",
       "\n",
       "#sk-container-id-1 div.sk-label label.sk-toggleable__label,\n",
       "#sk-container-id-1 div.sk-label label {\n",
       "  /* The background is the default theme color */\n",
       "  color: var(--sklearn-color-text-on-default-background);\n",
       "}\n",
       "\n",
       "/* On hover, darken the color of the background */\n",
       "#sk-container-id-1 div.sk-label:hover label.sk-toggleable__label {\n",
       "  color: var(--sklearn-color-text);\n",
       "  background-color: var(--sklearn-color-unfitted-level-2);\n",
       "}\n",
       "\n",
       "/* Label box, darken color on hover, fitted */\n",
       "#sk-container-id-1 div.sk-label.fitted:hover label.sk-toggleable__label.fitted {\n",
       "  color: var(--sklearn-color-text);\n",
       "  background-color: var(--sklearn-color-fitted-level-2);\n",
       "}\n",
       "\n",
       "/* Estimator label */\n",
       "\n",
       "#sk-container-id-1 div.sk-label label {\n",
       "  font-family: monospace;\n",
       "  font-weight: bold;\n",
       "  display: inline-block;\n",
       "  line-height: 1.2em;\n",
       "}\n",
       "\n",
       "#sk-container-id-1 div.sk-label-container {\n",
       "  text-align: center;\n",
       "}\n",
       "\n",
       "/* Estimator-specific */\n",
       "#sk-container-id-1 div.sk-estimator {\n",
       "  font-family: monospace;\n",
       "  border: 1px dotted var(--sklearn-color-border-box);\n",
       "  border-radius: 0.25em;\n",
       "  box-sizing: border-box;\n",
       "  margin-bottom: 0.5em;\n",
       "  /* unfitted */\n",
       "  background-color: var(--sklearn-color-unfitted-level-0);\n",
       "}\n",
       "\n",
       "#sk-container-id-1 div.sk-estimator.fitted {\n",
       "  /* fitted */\n",
       "  background-color: var(--sklearn-color-fitted-level-0);\n",
       "}\n",
       "\n",
       "/* on hover */\n",
       "#sk-container-id-1 div.sk-estimator:hover {\n",
       "  /* unfitted */\n",
       "  background-color: var(--sklearn-color-unfitted-level-2);\n",
       "}\n",
       "\n",
       "#sk-container-id-1 div.sk-estimator.fitted:hover {\n",
       "  /* fitted */\n",
       "  background-color: var(--sklearn-color-fitted-level-2);\n",
       "}\n",
       "\n",
       "/* Specification for estimator info (e.g. \"i\" and \"?\") */\n",
       "\n",
       "/* Common style for \"i\" and \"?\" */\n",
       "\n",
       ".sk-estimator-doc-link,\n",
       "a:link.sk-estimator-doc-link,\n",
       "a:visited.sk-estimator-doc-link {\n",
       "  float: right;\n",
       "  font-size: smaller;\n",
       "  line-height: 1em;\n",
       "  font-family: monospace;\n",
       "  background-color: var(--sklearn-color-background);\n",
       "  border-radius: 1em;\n",
       "  height: 1em;\n",
       "  width: 1em;\n",
       "  text-decoration: none !important;\n",
       "  margin-left: 1ex;\n",
       "  /* unfitted */\n",
       "  border: var(--sklearn-color-unfitted-level-1) 1pt solid;\n",
       "  color: var(--sklearn-color-unfitted-level-1);\n",
       "}\n",
       "\n",
       ".sk-estimator-doc-link.fitted,\n",
       "a:link.sk-estimator-doc-link.fitted,\n",
       "a:visited.sk-estimator-doc-link.fitted {\n",
       "  /* fitted */\n",
       "  border: var(--sklearn-color-fitted-level-1) 1pt solid;\n",
       "  color: var(--sklearn-color-fitted-level-1);\n",
       "}\n",
       "\n",
       "/* On hover */\n",
       "div.sk-estimator:hover .sk-estimator-doc-link:hover,\n",
       ".sk-estimator-doc-link:hover,\n",
       "div.sk-label-container:hover .sk-estimator-doc-link:hover,\n",
       ".sk-estimator-doc-link:hover {\n",
       "  /* unfitted */\n",
       "  background-color: var(--sklearn-color-unfitted-level-3);\n",
       "  color: var(--sklearn-color-background);\n",
       "  text-decoration: none;\n",
       "}\n",
       "\n",
       "div.sk-estimator.fitted:hover .sk-estimator-doc-link.fitted:hover,\n",
       ".sk-estimator-doc-link.fitted:hover,\n",
       "div.sk-label-container:hover .sk-estimator-doc-link.fitted:hover,\n",
       ".sk-estimator-doc-link.fitted:hover {\n",
       "  /* fitted */\n",
       "  background-color: var(--sklearn-color-fitted-level-3);\n",
       "  color: var(--sklearn-color-background);\n",
       "  text-decoration: none;\n",
       "}\n",
       "\n",
       "/* Span, style for the box shown on hovering the info icon */\n",
       ".sk-estimator-doc-link span {\n",
       "  display: none;\n",
       "  z-index: 9999;\n",
       "  position: relative;\n",
       "  font-weight: normal;\n",
       "  right: .2ex;\n",
       "  padding: .5ex;\n",
       "  margin: .5ex;\n",
       "  width: min-content;\n",
       "  min-width: 20ex;\n",
       "  max-width: 50ex;\n",
       "  color: var(--sklearn-color-text);\n",
       "  box-shadow: 2pt 2pt 4pt #999;\n",
       "  /* unfitted */\n",
       "  background: var(--sklearn-color-unfitted-level-0);\n",
       "  border: .5pt solid var(--sklearn-color-unfitted-level-3);\n",
       "}\n",
       "\n",
       ".sk-estimator-doc-link.fitted span {\n",
       "  /* fitted */\n",
       "  background: var(--sklearn-color-fitted-level-0);\n",
       "  border: var(--sklearn-color-fitted-level-3);\n",
       "}\n",
       "\n",
       ".sk-estimator-doc-link:hover span {\n",
       "  display: block;\n",
       "}\n",
       "\n",
       "/* \"?\"-specific style due to the `<a>` HTML tag */\n",
       "\n",
       "#sk-container-id-1 a.estimator_doc_link {\n",
       "  float: right;\n",
       "  font-size: 1rem;\n",
       "  line-height: 1em;\n",
       "  font-family: monospace;\n",
       "  background-color: var(--sklearn-color-background);\n",
       "  border-radius: 1rem;\n",
       "  height: 1rem;\n",
       "  width: 1rem;\n",
       "  text-decoration: none;\n",
       "  /* unfitted */\n",
       "  color: var(--sklearn-color-unfitted-level-1);\n",
       "  border: var(--sklearn-color-unfitted-level-1) 1pt solid;\n",
       "}\n",
       "\n",
       "#sk-container-id-1 a.estimator_doc_link.fitted {\n",
       "  /* fitted */\n",
       "  border: var(--sklearn-color-fitted-level-1) 1pt solid;\n",
       "  color: var(--sklearn-color-fitted-level-1);\n",
       "}\n",
       "\n",
       "/* On hover */\n",
       "#sk-container-id-1 a.estimator_doc_link:hover {\n",
       "  /* unfitted */\n",
       "  background-color: var(--sklearn-color-unfitted-level-3);\n",
       "  color: var(--sklearn-color-background);\n",
       "  text-decoration: none;\n",
       "}\n",
       "\n",
       "#sk-container-id-1 a.estimator_doc_link.fitted:hover {\n",
       "  /* fitted */\n",
       "  background-color: var(--sklearn-color-fitted-level-3);\n",
       "}\n",
       "</style><div id=\"sk-container-id-1\" class=\"sk-top-container\"><div class=\"sk-text-repr-fallback\"><pre>LinearRegression()</pre><b>In a Jupyter environment, please rerun this cell to show the HTML representation or trust the notebook. <br />On GitHub, the HTML representation is unable to render, please try loading this page with nbviewer.org.</b></div><div class=\"sk-container\" hidden><div class=\"sk-item\"><div class=\"sk-estimator fitted sk-toggleable\"><input class=\"sk-toggleable__control sk-hidden--visually\" id=\"sk-estimator-id-1\" type=\"checkbox\" checked><label for=\"sk-estimator-id-1\" class=\"sk-toggleable__label fitted sk-toggleable__label-arrow fitted\">&nbsp;&nbsp;LinearRegression<a class=\"sk-estimator-doc-link fitted\" rel=\"noreferrer\" target=\"_blank\" href=\"https://scikit-learn.org/1.4/modules/generated/sklearn.linear_model.LinearRegression.html\">?<span>Documentation for LinearRegression</span></a><span class=\"sk-estimator-doc-link fitted\">i<span>Fitted</span></span></label><div class=\"sk-toggleable__content fitted\"><pre>LinearRegression()</pre></div> </div></div></div></div>"
      ],
      "text/plain": [
       "LinearRegression()"
      ]
     },
     "execution_count": 161,
     "metadata": {},
     "output_type": "execute_result"
    }
   ],
   "source": [
    "lr.fit(x_train, y_train)"
   ]
  },
  {
   "cell_type": "code",
   "execution_count": 163,
   "id": "d1051368-d2ca-40f6-bd2b-6549eff13ff1",
   "metadata": {},
   "outputs": [],
   "source": [
    "tahmin = lr.predict(x_test)"
   ]
  },
  {
   "cell_type": "code",
   "execution_count": 165,
   "id": "4d3ce999-d478-4d50-8d96-4ee24c66763a",
   "metadata": {},
   "outputs": [
    {
     "data": {
      "text/plain": [
       "0.6877431751085332"
      ]
     },
     "execution_count": 165,
     "metadata": {},
     "output_type": "execute_result"
    }
   ],
   "source": [
    "r2_score(y_test, tahmin)"
   ]
  },
  {
   "cell_type": "code",
   "execution_count": 167,
   "id": "3ae1ce5c-c6f2-40c7-9896-c11a24933272",
   "metadata": {},
   "outputs": [
    {
     "data": {
      "text/plain": [
       "21218.790864381193"
      ]
     },
     "execution_count": 167,
     "metadata": {},
     "output_type": "execute_result"
    }
   ],
   "source": [
    "mean_squared_error(y_test, tahmin) ** 0.5"
   ]
  },
  {
   "cell_type": "markdown",
   "id": "7738e411-4c08-416d-abd1-2fb3fed0aa1a",
   "metadata": {},
   "source": [
    "# Sonuç Olarak"
   ]
  },
  {
   "cell_type": "markdown",
   "id": "02651db9-a2b8-48b9-8995-2cf8712bc753",
   "metadata": {},
   "source": [
    "### 5 Adet model testi yaptım bunlardan 2 tanesi 80 üzeri, 2 tanesi 70 üzeri ve sonuncusu ise 60 üzeri sonuç verdi."
   ]
  },
  {
   "cell_type": "code",
   "execution_count": 172,
   "id": "fd483f0d-f9b5-4c8d-9815-47f93d4e0f32",
   "metadata": {},
   "outputs": [
    {
     "ename": "AttributeError",
     "evalue": "'DecisionTreeRegressor' object has no attribute 'corr'",
     "output_type": "error",
     "traceback": [
      "\u001b[1;31m---------------------------------------------------------------------------\u001b[0m",
      "\u001b[1;31mAttributeError\u001b[0m                            Traceback (most recent call last)",
      "Cell \u001b[1;32mIn[172], line 1\u001b[0m\n\u001b[1;32m----> 1\u001b[0m sns\u001b[38;5;241m.\u001b[39mheatmap(df\u001b[38;5;241m.\u001b[39mcorr(), annot\u001b[38;5;241m=\u001b[39m\u001b[38;5;28;01mTrue\u001b[39;00m)\n",
      "\u001b[1;31mAttributeError\u001b[0m: 'DecisionTreeRegressor' object has no attribute 'corr'"
     ]
    }
   ],
   "source": [
    "sns.heatmap(df.corr(), annot=True)"
   ]
  },
  {
   "cell_type": "code",
   "execution_count": 174,
   "id": "ea403521-79ee-44d0-8e30-fb9fe7504838",
   "metadata": {},
   "outputs": [
    {
     "ename": "AttributeError",
     "evalue": "'DecisionTreeRegressor' object has no attribute 'corr'",
     "output_type": "error",
     "traceback": [
      "\u001b[1;31m---------------------------------------------------------------------------\u001b[0m",
      "\u001b[1;31mAttributeError\u001b[0m                            Traceback (most recent call last)",
      "Cell \u001b[1;32mIn[174], line 1\u001b[0m\n\u001b[1;32m----> 1\u001b[0m sns\u001b[38;5;241m.\u001b[39mheatmap(df\u001b[38;5;241m.\u001b[39mcorr(), annot\u001b[38;5;241m=\u001b[39m\u001b[38;5;28;01mTrue\u001b[39;00m)\n",
      "\u001b[1;31mAttributeError\u001b[0m: 'DecisionTreeRegressor' object has no attribute 'corr'"
     ]
    }
   ],
   "source": [
    "sns.heatmap(df.corr(), annot=True)"
   ]
  },
  {
   "cell_type": "code",
   "execution_count": 176,
   "id": "ddc4a7f1-9e6c-4fc1-a2ee-489bdad7b18b",
   "metadata": {},
   "outputs": [
    {
     "ename": "AttributeError",
     "evalue": "'DecisionTreeRegressor' object has no attribute 'corr'",
     "output_type": "error",
     "traceback": [
      "\u001b[1;31m---------------------------------------------------------------------------\u001b[0m",
      "\u001b[1;31mAttributeError\u001b[0m                            Traceback (most recent call last)",
      "Cell \u001b[1;32mIn[176], line 1\u001b[0m\n\u001b[1;32m----> 1\u001b[0m df\u001b[38;5;241m.\u001b[39mcorr()\n",
      "\u001b[1;31mAttributeError\u001b[0m: 'DecisionTreeRegressor' object has no attribute 'corr'"
     ]
    }
   ],
   "source": [
    "df.corr()"
   ]
  },
  {
   "cell_type": "code",
   "execution_count": null,
   "id": "438e8736-34ea-43be-a787-3c2c4d9be78b",
   "metadata": {},
   "outputs": [],
   "source": []
  }
 ],
 "metadata": {
  "kernelspec": {
   "display_name": "Python 3 (ipykernel)",
   "language": "python",
   "name": "python3"
  },
  "language_info": {
   "codemirror_mode": {
    "name": "ipython",
    "version": 3
   },
   "file_extension": ".py",
   "mimetype": "text/x-python",
   "name": "python",
   "nbconvert_exporter": "python",
   "pygments_lexer": "ipython3",
   "version": "3.12.4"
  }
 },
 "nbformat": 4,
 "nbformat_minor": 5
}
